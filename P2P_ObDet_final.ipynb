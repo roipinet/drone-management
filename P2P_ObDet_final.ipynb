{
 "cells": [
  {
   "cell_type": "code",
   "execution_count": 1,
   "metadata": {
    "colab": {
     "base_uri": "https://localhost:8080/",
     "height": 615
    },
    "colab_type": "code",
    "id": "NhNy5qIDy5FL",
    "outputId": "d7eee5be-5f5d-4044-e1d0-2504727a165f",
    "scrolled": false
   },
   "outputs": [
    {
     "name": "stdout",
     "output_type": "stream",
     "text": [
      "Requirement already up-to-date: tensorflow==2.* in ./code/parrot-groundsdk/.python/py3/lib/python3.6/site-packages (2.1.0rc0)\n",
      "Requirement already satisfied, skipping upgrade: absl-py>=0.7.0 in ./code/parrot-groundsdk/.python/py3/lib/python3.6/site-packages (from tensorflow==2.*) (0.8.1)\n",
      "Requirement already satisfied, skipping upgrade: google-pasta>=0.1.6 in ./code/parrot-groundsdk/.python/py3/lib/python3.6/site-packages (from tensorflow==2.*) (0.1.8)\n",
      "Requirement already satisfied, skipping upgrade: tensorboard<2.1.0,>=2.0.0 in ./code/parrot-groundsdk/.python/py3/lib/python3.6/site-packages (from tensorflow==2.*) (2.0.2)\n",
      "Requirement already satisfied, skipping upgrade: tensorflow-estimator<2.1.0,>=2.0.0 in ./code/parrot-groundsdk/.python/py3/lib/python3.6/site-packages (from tensorflow==2.*) (2.0.1)\n",
      "Requirement already satisfied, skipping upgrade: protobuf>=3.8.0 in ./code/parrot-groundsdk/.python/py3/lib/python3.6/site-packages (from tensorflow==2.*) (3.11.0)\n",
      "Requirement already satisfied, skipping upgrade: numpy<2.0,>=1.16.0 in ./code/parrot-groundsdk/.python/py3/lib/python3.6/site-packages (from tensorflow==2.*) (1.17.1)\n",
      "Requirement already satisfied, skipping upgrade: keras-applications>=1.0.8 in ./code/parrot-groundsdk/.python/py3/lib/python3.6/site-packages (from tensorflow==2.*) (1.0.8)\n",
      "Requirement already satisfied, skipping upgrade: astor>=0.6.0 in ./code/parrot-groundsdk/.python/py3/lib/python3.6/site-packages (from tensorflow==2.*) (0.8.0)\n",
      "Requirement already satisfied, skipping upgrade: keras-preprocessing>=1.1.0 in ./code/parrot-groundsdk/.python/py3/lib/python3.6/site-packages (from tensorflow==2.*) (1.1.0)\n",
      "Requirement already satisfied, skipping upgrade: wrapt>=1.11.1 in ./code/parrot-groundsdk/.python/py3/lib/python3.6/site-packages (from tensorflow==2.*) (1.11.2)\n",
      "Requirement already satisfied, skipping upgrade: wheel>=0.26; python_version >= \"3\" in ./code/parrot-groundsdk/.python/py3/lib/python3.6/site-packages (from tensorflow==2.*) (0.33.6)\n",
      "Requirement already satisfied, skipping upgrade: six>=1.12.0 in ./code/parrot-groundsdk/.python/py3/lib/python3.6/site-packages (from tensorflow==2.*) (1.12.0)\n",
      "Requirement already satisfied, skipping upgrade: gast==0.2.2 in ./code/parrot-groundsdk/.python/py3/lib/python3.6/site-packages (from tensorflow==2.*) (0.2.2)\n",
      "Requirement already satisfied, skipping upgrade: termcolor>=1.1.0 in ./code/parrot-groundsdk/.python/py3/lib/python3.6/site-packages (from tensorflow==2.*) (1.1.0)\n",
      "Requirement already satisfied, skipping upgrade: opt-einsum>=2.3.2 in ./code/parrot-groundsdk/.python/py3/lib/python3.6/site-packages (from tensorflow==2.*) (3.1.0)\n",
      "Requirement already satisfied, skipping upgrade: grpcio>=1.8.6 in ./code/parrot-groundsdk/.python/py3/lib/python3.6/site-packages (from tensorflow==2.*) (1.25.0)\n",
      "Requirement already satisfied, skipping upgrade: requests<3,>=2.21.0 in ./code/parrot-groundsdk/.python/py3/lib/python3.6/site-packages (from tensorboard<2.1.0,>=2.0.0->tensorflow==2.*) (2.22.0)\n",
      "Requirement already satisfied, skipping upgrade: werkzeug>=0.11.15 in ./code/parrot-groundsdk/.python/py3/lib/python3.6/site-packages (from tensorboard<2.1.0,>=2.0.0->tensorflow==2.*) (0.16.0)\n",
      "Requirement already satisfied, skipping upgrade: google-auth-oauthlib<0.5,>=0.4.1 in ./code/parrot-groundsdk/.python/py3/lib/python3.6/site-packages (from tensorboard<2.1.0,>=2.0.0->tensorflow==2.*) (0.4.1)\n",
      "Requirement already satisfied, skipping upgrade: markdown>=2.6.8 in ./code/parrot-groundsdk/.python/py3/lib/python3.6/site-packages (from tensorboard<2.1.0,>=2.0.0->tensorflow==2.*) (3.1.1)\n",
      "Requirement already satisfied, skipping upgrade: google-auth<2,>=1.6.3 in ./code/parrot-groundsdk/.python/py3/lib/python3.6/site-packages (from tensorboard<2.1.0,>=2.0.0->tensorflow==2.*) (1.7.1)\n",
      "Requirement already satisfied, skipping upgrade: setuptools>=41.0.0 in ./code/parrot-groundsdk/.python/py3/lib/python3.6/site-packages (from tensorboard<2.1.0,>=2.0.0->tensorflow==2.*) (41.2.0)\n",
      "Requirement already satisfied, skipping upgrade: h5py in ./code/parrot-groundsdk/.python/py3/lib/python3.6/site-packages (from keras-applications>=1.0.8->tensorflow==2.*) (2.10.0)\n",
      "Requirement already satisfied, skipping upgrade: urllib3!=1.25.0,!=1.25.1,<1.26,>=1.21.1 in ./code/parrot-groundsdk/.python/py3/lib/python3.6/site-packages (from requests<3,>=2.21.0->tensorboard<2.1.0,>=2.0.0->tensorflow==2.*) (1.25.3)\n",
      "Requirement already satisfied, skipping upgrade: chardet<3.1.0,>=3.0.2 in ./code/parrot-groundsdk/.python/py3/lib/python3.6/site-packages (from requests<3,>=2.21.0->tensorboard<2.1.0,>=2.0.0->tensorflow==2.*) (3.0.4)\n",
      "Requirement already satisfied, skipping upgrade: certifi>=2017.4.17 in ./code/parrot-groundsdk/.python/py3/lib/python3.6/site-packages (from requests<3,>=2.21.0->tensorboard<2.1.0,>=2.0.0->tensorflow==2.*) (2019.6.16)\n",
      "Requirement already satisfied, skipping upgrade: idna<2.9,>=2.5 in ./code/parrot-groundsdk/.python/py3/lib/python3.6/site-packages (from requests<3,>=2.21.0->tensorboard<2.1.0,>=2.0.0->tensorflow==2.*) (2.8)\n",
      "Requirement already satisfied, skipping upgrade: requests-oauthlib>=0.7.0 in ./code/parrot-groundsdk/.python/py3/lib/python3.6/site-packages (from google-auth-oauthlib<0.5,>=0.4.1->tensorboard<2.1.0,>=2.0.0->tensorflow==2.*) (1.3.0)\n",
      "Requirement already satisfied, skipping upgrade: rsa<4.1,>=3.1.4 in ./code/parrot-groundsdk/.python/py3/lib/python3.6/site-packages (from google-auth<2,>=1.6.3->tensorboard<2.1.0,>=2.0.0->tensorflow==2.*) (4.0)\n",
      "Requirement already satisfied, skipping upgrade: pyasn1-modules>=0.2.1 in ./code/parrot-groundsdk/.python/py3/lib/python3.6/site-packages (from google-auth<2,>=1.6.3->tensorboard<2.1.0,>=2.0.0->tensorflow==2.*) (0.2.7)\n",
      "Requirement already satisfied, skipping upgrade: cachetools<3.2,>=2.0.0 in ./code/parrot-groundsdk/.python/py3/lib/python3.6/site-packages (from google-auth<2,>=1.6.3->tensorboard<2.1.0,>=2.0.0->tensorflow==2.*) (3.1.1)\n",
      "Requirement already satisfied, skipping upgrade: oauthlib>=3.0.0 in ./code/parrot-groundsdk/.python/py3/lib/python3.6/site-packages (from requests-oauthlib>=0.7.0->google-auth-oauthlib<0.5,>=0.4.1->tensorboard<2.1.0,>=2.0.0->tensorflow==2.*) (3.1.0)\n",
      "Requirement already satisfied, skipping upgrade: pyasn1>=0.1.3 in ./code/parrot-groundsdk/.python/py3/lib/python3.6/site-packages (from rsa<4.1,>=3.1.4->google-auth<2,>=1.6.3->tensorboard<2.1.0,>=2.0.0->tensorflow==2.*) (0.4.8)\n"
     ]
    }
   ],
   "source": [
    "#this will ask for a runtime restart\n",
    "\"\"\"\n",
    "THIS CELL MUST BE EXECUTED BEFORE ALL, AS IT WILL ASK FOR RESTART\n",
    "\"\"\"\n",
    "!pip install -U --pre tensorflow==\"2.*\""
   ]
  },
  {
   "cell_type": "markdown",
   "metadata": {
    "colab_type": "text",
    "id": "NXLpcDT6UFvP"
   },
   "source": [
    "#Initial configuration"
   ]
  },
  {
   "cell_type": "code",
   "execution_count": 2,
   "metadata": {
    "colab": {},
    "colab_type": "code",
    "id": "FRC-i6wz5k-Y",
    "scrolled": true
   },
   "outputs": [
    {
     "data": {
      "text/plain": [
       "'\\n\\n          <<<dirs will be created by commands after this>>>\\n          <<<<some files must be uploaded by hand>>>>>>\\n\\nIn colab the directories must be like ....\\n  /Uploads - the image to make the prediction (singe image input.jpg)\\n  /saved_model - the saved model of the object detection, it comes when the model is exported\\n              -contains a saved_model.pb and an empty dir variables\\n  /p2poutput - the dir which contains the output from p2p (single image pixuot.jpg)\\n              <<<this will be created below with a clone githug command>>>\\n  /Models - TF Object detection API gotten from github, will be cloned below\\n          -this must contain the edited visualization_utils.py \\n\\n\\n        <<<<this must be uploaded by hand in /content >>>>>>>\\n  labelmap.pbtxt - the labels for the object detection, is a txt easy generable but must follow a specific structure \\n  visualization_utils.py - mmodified file that draws boxes on the images but I added features to thow the coords as lists\\n  saved_model.pb - the saved model for the object detection AI \\n  /Checkpoints - this dir contains the p2p checpoints\\n'"
      ]
     },
     "execution_count": 2,
     "metadata": {},
     "output_type": "execute_result"
    }
   ],
   "source": [
    "\"\"\"\n",
    "\n",
    "          <<<dirs will be created by commands after this>>>\n",
    "          <<<<some files must be uploaded by hand>>>>>>\n",
    "\n",
    "In colab the directories must be like ....\n",
    "  /Uploads - the image to make the prediction (singe image input.jpg)\n",
    "  /saved_model - the saved model of the object detection, it comes when the model is exported\n",
    "              -contains a saved_model.pb and an empty dir variables\n",
    "  /p2poutput - the dir which contains the output from p2p (single image pixuot.jpg)\n",
    "              <<<this will be created below with a clone githug command>>>\n",
    "  /Models - TF Object detection API gotten from github, will be cloned below\n",
    "          -this must contain the edited visualization_utils.py \n",
    "\n",
    "\n",
    "        <<<<this must be uploaded by hand in /content >>>>>>>\n",
    "  labelmap.pbtxt - the labels for the object detection, is a txt easy generable but must follow a specific structure \n",
    "  visualization_utils.py - mmodified file that draws boxes on the images but I added features to thow the coords as lists\n",
    "  saved_model.pb - the saved model for the object detection AI \n",
    "  /Checkpoints - this dir contains the p2p checpoints\n",
    "\"\"\"\n",
    "\n",
    "# # %tensorflow_version 2.x\n",
    "# import os\n",
    "# if not os.path.exists('/Uploads'):\n",
    "#     os.makedirs('/Uploads')\n",
    "# if not os.path.exists('/p2poutput'):\n",
    "#     os.makedirs('/p2poutput')\n",
    "# if not os.path.exists('/saved_model'):\n",
    "#     os.makedirs('/saved_model')\n",
    "# if not os.path.exists('/saved_model/variables'):\n",
    "#     os.makedirs('/saved_model/variables')"
   ]
  },
  {
   "cell_type": "markdown",
   "metadata": {
    "colab_type": "text",
    "id": "14BZsNsl8UKh"
   },
   "source": [
    "#Dependencies"
   ]
  },
  {
   "cell_type": "code",
   "execution_count": 3,
   "metadata": {
    "colab": {
     "base_uri": "https://localhost:8080/",
     "height": 85
    },
    "colab_type": "code",
    "id": "8fzlQ_sMU3Zh",
    "outputId": "10a40381-b7c9-4742-a297-3158128702dd",
    "scrolled": false
   },
   "outputs": [
    {
     "name": "stdout",
     "output_type": "stream",
     "text": [
      "Requirement already satisfied: pycocotools in ./code/parrot-groundsdk/.python/py3/lib/python3.6/site-packages (2.0.0)\r\n"
     ]
    }
   ],
   "source": [
    "#object detection dependencies \n",
    "!pip install pycocotools\n",
    "import pathlib\n",
    "import os\n",
    "import shutil\n",
    "\n",
    "if \"models\" in pathlib.Path.cwd().parts:\n",
    "  while \"models\" in pathlib.Path.cwd().parts:\n",
    "    os.chdir('..')\n",
    "elif not pathlib.Path('models').exists():\n",
    "  !git clone --depth 1 https://github.com/tensorflow/models\n",
    "\n",
    "# if os.path.exists(\"/content/visualization_utils.py\"):\n",
    "#   if os.path.exists(\"/content/models/research/object_detection/utils/visualization_utils.py\"):\n",
    "#     os.remove(\"/content/models/research/object_detection/utils/visualization_utils.py\")\n",
    "#     print (\"removed old vizualization_utils.py\")\n",
    "#     newPath = shutil.copy('/content/visualization_utils.py', '/content/models/research/object_detection/utils/')\n",
    "#     print(\"added new visualization_utils.py\")\n",
    "#   else:\n",
    "#     print(\"The required file <<</content/models/research/object_detection/utils/visualization_utils.py>>> does not exist\")\n",
    "# else:\n",
    "#   print(\"The required file <<</content/visualization_utils.py>> does not exist\")\n",
    "\n",
    "# if os.path.exists(\"/content/saved_model/saved_model.pb\"):\n",
    "#     print(\"saved object detection model exist\")\n",
    "# else:\n",
    "#   newPath = shutil.copy('/content/saved_model.pb', '/content/saved_model')\n",
    "#   print(\"saved object detection model was added to /saved_model\")"
   ]
  },
  {
   "cell_type": "code",
   "execution_count": 4,
   "metadata": {
    "colab": {},
    "colab_type": "code",
    "id": "hhSqdM_0VKJg",
    "scrolled": true
   },
   "outputs": [],
   "source": [
    "%%bash\n",
    "cd models/research/\n",
    "protoc object_detection/protos/*.proto --python_out=."
   ]
  },
  {
   "cell_type": "code",
   "execution_count": 5,
   "metadata": {
    "colab": {
     "base_uri": "https://localhost:8080/",
     "height": 428
    },
    "colab_type": "code",
    "id": "1jGHMJcVVK8D",
    "outputId": "af6c1764-8b0b-4d43-ba54-a7f5898f600e",
    "scrolled": false
   },
   "outputs": [
    {
     "name": "stdout",
     "output_type": "stream",
     "text": [
      "Processing /home/rodrigo/models/research\n",
      "Requirement already satisfied: Pillow>=1.0 in /home/rodrigo/code/parrot-groundsdk/.python/py3/lib/python3.6/site-packages (from object-detection==0.1) (6.1.0)\n",
      "Requirement already satisfied: Matplotlib>=2.1 in /home/rodrigo/code/parrot-groundsdk/.python/py3/lib/python3.6/site-packages (from object-detection==0.1) (3.1.2)\n",
      "Requirement already satisfied: Cython>=0.28.1 in /home/rodrigo/code/parrot-groundsdk/.python/py3/lib/python3.6/site-packages (from object-detection==0.1) (0.29.14)\n",
      "Requirement already satisfied: python-dateutil>=2.1 in /home/rodrigo/code/parrot-groundsdk/.python/py3/lib/python3.6/site-packages (from Matplotlib>=2.1->object-detection==0.1) (2.8.1)\n",
      "Requirement already satisfied: kiwisolver>=1.0.1 in /home/rodrigo/code/parrot-groundsdk/.python/py3/lib/python3.6/site-packages (from Matplotlib>=2.1->object-detection==0.1) (1.1.0)\n",
      "Requirement already satisfied: pyparsing!=2.0.4,!=2.1.2,!=2.1.6,>=2.0.1 in /home/rodrigo/code/parrot-groundsdk/.python/py3/lib/python3.6/site-packages (from Matplotlib>=2.1->object-detection==0.1) (2.4.2)\n",
      "Requirement already satisfied: cycler>=0.10 in /home/rodrigo/code/parrot-groundsdk/.python/py3/lib/python3.6/site-packages (from Matplotlib>=2.1->object-detection==0.1) (0.10.0)\n",
      "Requirement already satisfied: numpy>=1.11 in /home/rodrigo/code/parrot-groundsdk/.python/py3/lib/python3.6/site-packages (from Matplotlib>=2.1->object-detection==0.1) (1.17.1)\n",
      "Requirement already satisfied: six>=1.5 in /home/rodrigo/code/parrot-groundsdk/.python/py3/lib/python3.6/site-packages (from python-dateutil>=2.1->Matplotlib>=2.1->object-detection==0.1) (1.12.0)\n",
      "Requirement already satisfied: setuptools in /home/rodrigo/code/parrot-groundsdk/.python/py3/lib/python3.6/site-packages (from kiwisolver>=1.0.1->Matplotlib>=2.1->object-detection==0.1) (41.2.0)\n",
      "Building wheels for collected packages: object-detection\n",
      "  Building wheel for object-detection (setup.py): started\n",
      "  Building wheel for object-detection (setup.py): finished with status 'done'\n",
      "  Created wheel for object-detection: filename=object_detection-0.1-cp36-none-any.whl size=1017821 sha256=917ab35d8dc9ed36315c5831c801362de23116e6d85251bc245198a63dec76e2\n",
      "  Stored in directory: /tmp/pip-ephem-wheel-cache-_0uet_8n/wheels/de/22/2a/8758c14b77a6c4ac82c157dd710b9df75f1e289633fb63657e\n",
      "Successfully built object-detection\n",
      "Installing collected packages: object-detection\n",
      "  Found existing installation: object-detection 0.1\n",
      "    Uninstalling object-detection-0.1:\n",
      "      Successfully uninstalled object-detection-0.1\n",
      "Successfully installed object-detection-0.1\n"
     ]
    }
   ],
   "source": [
    "%%bash \n",
    "cd models/research\n",
    "pip install ."
   ]
  },
  {
   "cell_type": "code",
   "execution_count": 6,
   "metadata": {
    "colab": {},
    "colab_type": "code",
    "id": "H03OwKNfVTts",
    "scrolled": true
   },
   "outputs": [],
   "source": [
    "import six.moves.urllib as urllib\n",
    "import sys\n",
    "import tarfile\n",
    "import zipfile\n",
    "from collections import defaultdict\n",
    "from io import StringIO\n",
    "from matplotlib import pyplot as plt\n",
    "from PIL import Image\n",
    "from IPython.display import display\n",
    "\n",
    "from object_detection.utils import ops as utils_ops\n",
    "from object_detection.utils import label_map_util\n",
    "from object_detection.utils import visualization_utils as vis_util"
   ]
  },
  {
   "cell_type": "code",
   "execution_count": 7,
   "metadata": {
    "colab": {},
    "colab_type": "code",
    "id": "3DYZYoj08Q5Z",
    "scrolled": true
   },
   "outputs": [],
   "source": [
    "#P2P dependencies\n",
    "import tensorflow as tf\n",
    "import matplotlib.pyplot as plt\n",
    "import numpy as np\n",
    "from tensorflow.keras import *\n",
    "from tensorflow.keras.layers import *\n",
    "import math"
   ]
  },
  {
   "cell_type": "code",
   "execution_count": 8,
   "metadata": {
    "colab": {},
    "colab_type": "code",
    "id": "gELsB2HWVnzm",
    "scrolled": true
   },
   "outputs": [],
   "source": [
    "# patch tf1 into `utils.ops`\n",
    "utils_ops.tf = tf.compat.v1\n",
    "\n",
    "# Patch the location of gfile\n",
    "tf.gfile = tf.io.gfile"
   ]
  },
  {
   "cell_type": "markdown",
   "metadata": {
    "colab_type": "text",
    "id": "edo0H8t6599x"
   },
   "source": [
    "#Pix 2 Pix data resources and paths\n"
   ]
  },
  {
   "cell_type": "code",
   "execution_count": 9,
   "metadata": {
    "colab": {},
    "colab_type": "code",
    "id": "MeFeAYoU6D8W",
    "scrolled": true
   },
   "outputs": [],
   "source": [
    "\n",
    "#Single data path where the input for pix2pix model will fint its input, there should be only one file called input.jpg\n",
    "SINGLEPATH = 'Uploads'\n",
    "#checkpoint data path\n",
    "CKPATH ='Checkpoints'\n",
    "P2POUTPUTPATH ='p2poutput/pixout.jpg'\n",
    "#Image dimensions to re size the input image for p2p model, it MUST be in base 2 (1,2,4,8,16,32...1024....)\n",
    "IMG_WIDTH = 512\n",
    "IMG_HEIGHT = 512"
   ]
  },
  {
   "cell_type": "markdown",
   "metadata": {
    "colab_type": "text",
    "id": "qTAAp8DJycF4"
   },
   "source": [
    "#Object Detection data resources and paths"
   ]
  },
  {
   "cell_type": "code",
   "execution_count": 10,
   "metadata": {
    "colab": {},
    "colab_type": "code",
    "id": "nMATYGeNWsSk",
    "scrolled": true
   },
   "outputs": [],
   "source": [
    "# List of the strings that is used to add correct label for each box.\n",
    "\n",
    "############label map must be uploaded by hand to the cwd\n",
    "PATH_TO_LABELS = 'labelmap.pbtxt'\n",
    "category_index = label_map_util.create_category_index_from_labelmap(PATH_TO_LABELS, use_display_name=True)\n",
    "#this is the input conection , p2poutput dir must exist and must contain the output from P2P\n",
    "\n",
    "PATH_TO_TEST_IMAGES_DIR = pathlib.Path('p2poutput')\n",
    "TEST_IMAGE_PATHS = sorted(list(PATH_TO_TEST_IMAGES_DIR.glob(\"*.jpg\")))\n",
    "\n",
    "def load_paths():\n",
    "  PATH_TO_TEST_IMAGES_DIR = pathlib.Path('p2poutput')\n",
    "  TEST_IMAGE_PATHS = sorted(list(PATH_TO_TEST_IMAGES_DIR.glob(\"*.jpg\")))\n",
    "  \n",
    "load_paths()"
   ]
  },
  {
   "cell_type": "markdown",
   "metadata": {
    "colab_type": "text",
    "id": "lzQ2GJvF6tQK"
   },
   "source": [
    "#Pix 2 Pix load data functions "
   ]
  },
  {
   "cell_type": "code",
   "execution_count": 11,
   "metadata": {
    "colab": {},
    "colab_type": "code",
    "id": "bXnrCIxK6sj6",
    "scrolled": true
   },
   "outputs": [],
   "source": [
    "#Resize images \n",
    "def resize(inimg,heigth,width):\n",
    "    inimg = tf.image.resize(inimg,[heigth,width])\n",
    "    return inimg\n",
    "\n",
    "#normalize image between -1,1\n",
    "def normalize(inimg):\n",
    "    inimg = (inimg/127.5) - 1\n",
    "    return inimg\n",
    "\n",
    "def load_single_image(filename):\n",
    "    inimg = tf.cast(tf.image.decode_jpeg(tf.io.read_file(SINGLEPATH + '/' + filename)), tf.float32)[..., :3]\n",
    "    inimg= resize(inimg,IMG_HEIGHT,IMG_WIDTH)\n",
    "    inimg= normalize(inimg)\n",
    "    return inimg\n"
   ]
  },
  {
   "cell_type": "markdown",
   "metadata": {
    "colab_type": "text",
    "id": "1-6hzsv-793w"
   },
   "source": [
    "#Pix 2 Pix Architecture definition"
   ]
  },
  {
   "cell_type": "code",
   "execution_count": 12,
   "metadata": {
    "colab": {},
    "colab_type": "code",
    "id": "VjH3gJ5d8LD3",
    "scrolled": true
   },
   "outputs": [],
   "source": [
    "#downsample build of the 3 steps to build architechture\n",
    "# defined on the paper, is just a block for the UNET structure\n",
    "#A little CNN of 3 layers Conv2D-Batch-leakyRelu\n",
    "def downsample(filters, apply_batchnorm=True):\n",
    "    result = Sequential()\n",
    "    #gaussian noise with mean = 0 and standard deviation = 0.2\n",
    "    initializer = tf.random_normal_initializer(0,0.02)\n",
    "    result.add(Conv2D(filters,\n",
    "                        kernel_size=4,\n",
    "                        strides=2,\n",
    "                        padding=\"same\",\n",
    "                        kernel_initializer = initializer,\n",
    "                        use_bias=not apply_batchnorm))\n",
    "    result.add(BatchNormalization())\n",
    "    result.add(LeakyReLU())\n",
    "\n",
    "    return result"
   ]
  },
  {
   "cell_type": "code",
   "execution_count": 13,
   "metadata": {
    "colab": {},
    "colab_type": "code",
    "id": "h585wSPT9ZjV",
    "scrolled": true
   },
   "outputs": [],
   "source": [
    "#Upsample stem defined on the paper, is just a block for the UNET structure\n",
    "#A little CNN of 3 layers Conv2D-Batch-Relu\n",
    "def upsample(filters, apply_dropout=False):\n",
    "    result = Sequential()\n",
    "    #gaussian noise with mean = 0 and standard deviation = 0.2\n",
    "    initializer = tf.random_normal_initializer(0,0.02)\n",
    "    result.add(Conv2DTranspose(filters,\n",
    "                                kernel_size=4,\n",
    "                                strides=2,\n",
    "                                padding=\"same\",\n",
    "                                kernel_initializer = initializer,\n",
    "                                use_bias=False))\n",
    "    result.add(BatchNormalization())\n",
    "\n",
    "    if apply_dropout:\n",
    "        result.add(Dropout(0.5))\n",
    "\n",
    "    result.add(ReLU())\n",
    "\n",
    "    return result"
   ]
  },
  {
   "cell_type": "code",
   "execution_count": 14,
   "metadata": {
    "colab": {},
    "colab_type": "code",
    "id": "JAb9lHP59lPZ",
    "scrolled": true
   },
   "outputs": [],
   "source": [
    "#Unet architecture construction using downsample steps and upsample steps\n",
    "def Generator():\n",
    "\n",
    "    inputs = tf.keras.layers.Input(shape=[None,None,3])\n",
    "\n",
    "    down_stack = [  downsample(64, apply_batchnorm=False),\n",
    "                    downsample(128),\n",
    "                    downsample(256),\n",
    "                    downsample(512),\n",
    "                    downsample(512),\n",
    "                    downsample(512),\n",
    "                    downsample(512),\n",
    "                    downsample(512),\n",
    "                ]\n",
    "\n",
    "\n",
    "    up_stack = [    upsample(512,apply_dropout=True),\n",
    "                    upsample(512,apply_dropout=True),\n",
    "                    upsample(512,apply_dropout=True),\n",
    "                    upsample(512),\n",
    "                    upsample(256),\n",
    "                    upsample(128),\n",
    "                    upsample(64),\n",
    "                ]\n",
    "    initializer = tf.random_normal_initializer(0,0.02)\n",
    "    last = Conv2DTranspose( filters = 3,\n",
    "                            kernel_size = 4,\n",
    "                            strides = 2,\n",
    "                            padding = \"same\",\n",
    "                            kernel_initializer = initializer,\n",
    "                            activation = \"tanh\")\n",
    "\n",
    "    #Conections from the downsample steps to the upsample steps\n",
    "    #Is a backwards relation from down to upsamples , it recieves the equivalent info from the correspondent oposite layer between down and up samples \n",
    "    x = inputs\n",
    "    s = []\n",
    "    concat = Concatenate()\n",
    "\n",
    "    for down in down_stack:\n",
    "        x = down(x)\n",
    "        s.append(x)\n",
    "    \n",
    "    s = reversed(s[:-1])\n",
    "    for up,sk in zip(up_stack,s):\n",
    "        x = up(x)\n",
    "        x = concat([x,sk])\n",
    "    last = last(x)\n",
    "    return Model(inputs = inputs, outputs = last)\n",
    "\n",
    "generator = Generator();"
   ]
  },
  {
   "cell_type": "code",
   "execution_count": 15,
   "metadata": {
    "colab": {},
    "colab_type": "code",
    "id": "p5BaPGqO9qmL",
    "scrolled": true
   },
   "outputs": [],
   "source": [
    "def Discriminator():\n",
    "\n",
    "    ini = Input(shape=[None,None,3], name=\"input_img\")\n",
    "    gen = Input(shape=[None,None,3], name=\"gener_img\")\n",
    "\n",
    "    con = concatenate([ini,gen])\n",
    "\n",
    "    initializer = tf.random_normal_initializer(0,0.02)\n",
    "\n",
    "    down1 = downsample(54, apply_batchnorm=False)(con)\n",
    "    down2 = downsample(128)(down1)\n",
    "    down3 = downsample(256)(down2)\n",
    "    down4 = downsample(512)(down3)\n",
    "\n",
    "    last = Conv2DTranspose( filters = 1,\n",
    "                        kernel_size = 4,\n",
    "                        strides = 2,\n",
    "                        padding = \"same\",\n",
    "                        kernel_initializer = initializer)(down4)\n",
    "\n",
    "    return  tf.keras.Model(inputs=[ini,gen], outputs=last)\n",
    "discriminator = Discriminator();"
   ]
  },
  {
   "cell_type": "code",
   "execution_count": 16,
   "metadata": {
    "colab": {},
    "colab_type": "code",
    "id": "vX8OD4Ki9uUn",
    "scrolled": true
   },
   "outputs": [],
   "source": [
    "loss_object = tf.keras.losses.BinaryCrossentropy(from_logits=True)"
   ]
  },
  {
   "cell_type": "code",
   "execution_count": 17,
   "metadata": {
    "colab": {},
    "colab_type": "code",
    "id": "KDnll10z9xzG",
    "scrolled": true
   },
   "outputs": [],
   "source": [
    "def discriminator_loss(disc_real_output, disc_generated_output):\n",
    "    real_loss = loss_object(tf.ones_like(disc_real_output),disc_real_output)\n",
    "    generated_loss = loss_object(tf.zeros_like(disc_generated_output),disc_generated_output)\n",
    "    total_disc_loss = real_loss + generated_loss\n",
    "    return total_disc_loss"
   ]
  },
  {
   "cell_type": "code",
   "execution_count": 18,
   "metadata": {
    "colab": {},
    "colab_type": "code",
    "id": "kAGUil_c9y5V",
    "scrolled": true
   },
   "outputs": [],
   "source": [
    "LAMBDA = 100\n",
    "def generator_loss(disc_generated_output, gen_output, target):\n",
    "    gan_loss = loss_object(tf.ones_like(disc_generated_output), disc_generated_output)\n",
    "\n",
    "    l1_loss = tf.reduce_mean(tf.abs(target - gen_output))\n",
    "\n",
    "    total_gen_loss = gan_loss + (LAMBDA*l1_loss)\n",
    "    return total_gen_loss"
   ]
  },
  {
   "cell_type": "code",
   "execution_count": 19,
   "metadata": {
    "colab": {},
    "colab_type": "code",
    "id": "0s23ovao93g6",
    "scrolled": true
   },
   "outputs": [],
   "source": [
    "generator_optimizer = tf.keras.optimizers.Adam(2e-4,beta_1=0.5)\n",
    "discriminator_optimizer =  tf.keras.optimizers.Adam(2e-4,beta_1=0.5)"
   ]
  },
  {
   "cell_type": "code",
   "execution_count": 20,
   "metadata": {
    "colab": {},
    "colab_type": "code",
    "id": "bT3-AJWW-Egi",
    "scrolled": true
   },
   "outputs": [],
   "source": [
    "#save checkpoint of the state of training\n",
    "checkpoint_prefix = os.path.join(CKPATH, \"ckpt\")\n",
    "checkpoint = tf.train.Checkpoint(generator_optimizer = generator_optimizer,\n",
    "                                    discriminator_optimizer = discriminator_optimizer,\n",
    "                                    generator = generator,\n",
    "                                    discriminator=discriminator)"
   ]
  },
  {
   "cell_type": "markdown",
   "metadata": {
    "colab_type": "text",
    "id": "NiKygrobQlgQ"
   },
   "source": [
    "#Pix 2 Pix output generator"
   ]
  },
  {
   "cell_type": "code",
   "execution_count": 21,
   "metadata": {
    "colab": {},
    "colab_type": "code",
    "id": "eokl0bQU-LGS",
    "scrolled": true
   },
   "outputs": [],
   "source": [
    "def generate_images(model, test_input):\n",
    "    prediction = model(test_input,training=True)\n",
    "    tf.keras.preprocessing.image.save_img(P2POUTPUTPATH, prediction[0,...])\n",
    "    return prediction[0]"
   ]
  },
  {
   "cell_type": "markdown",
   "metadata": {
    "colab_type": "text",
    "id": "7ZxpIiEG7W5a"
   },
   "source": [
    "#Pix 2 Pix input generator "
   ]
  },
  {
   "cell_type": "code",
   "execution_count": 22,
   "metadata": {
    "colab": {},
    "colab_type": "code",
    "id": "P-3AD4XT7uEh",
    "scrolled": true
   },
   "outputs": [],
   "source": [
    "def generateRealInputDataset(paths):\n",
    "  url = paths\n",
    "  finalDataset = tf.data.Dataset.from_tensor_slices(url)\n",
    "  finalDataset = finalDataset.map(load_single_image,num_parallel_calls=tf.data.experimental.AUTOTUNE)\n",
    "  finalDataset = finalDataset.batch(1)\n",
    "  return finalDataset"
   ]
  },
  {
   "cell_type": "markdown",
   "metadata": {
    "colab_type": "text",
    "id": "jKALUBnHUJPq"
   },
   "source": [
    "#Pix 2 Pix pre trained model load as chkpt"
   ]
  },
  {
   "cell_type": "code",
   "execution_count": 23,
   "metadata": {
    "colab": {
     "base_uri": "https://localhost:8080/",
     "height": 34
    },
    "colab_type": "code",
    "id": "R03mtoBx-005",
    "outputId": "68531857-bd62-4743-eda9-0f160c4266e7",
    "scrolled": true
   },
   "outputs": [
    {
     "data": {
      "text/plain": [
       "<tensorflow.python.training.tracking.util.CheckpointLoadStatus at 0x7fca5c574fd0>"
      ]
     },
     "execution_count": 23,
     "metadata": {},
     "output_type": "execute_result"
    }
   ],
   "source": [
    "#To make predictions on a pretrained model (preious functions must be compiled)\n",
    "checkpoint.restore(tf.train.latest_checkpoint(CKPATH))"
   ]
  },
  {
   "cell_type": "markdown",
   "metadata": {
    "colab_type": "text",
    "id": "_cudia4J_CJq"
   },
   "source": [
    "#Pix 2 Pix call "
   ]
  },
  {
   "cell_type": "code",
   "execution_count": 24,
   "metadata": {
    "colab": {
     "base_uri": "https://localhost:8080/",
     "height": 54
    },
    "colab_type": "code",
    "id": "PISqEnEZGatu",
    "outputId": "3e928153-4aee-4f05-c5d7-862e9949e56d",
    "scrolled": true
   },
   "outputs": [
    {
     "data": {
      "text/plain": [
       "'\\n-it depends on the checkpoints saved at my drive, it imports the last chkpt storaged there\\n  just as i remember right now, chkpts involves the formal files and the index file to check which is the last \\n  so in order to make it run from other places it must have acces to  my drive or to any path which contains the ckpt\\n\\n-It requires that the input image exist on a Uploads dir at cwd, for colab the path is content/Uploads/input.jpg\\n  so for the functionin, that  image must be updated each time we want to do a prediction, also to not generate and\\n  storage a lot of images it can be overwritten \\n\\n-is enough to call pix2pix() to make a prediction using content/Uploads/input.jpg it will returns a np array and will save\\n  the predicted image at current dir /content/pixout.jpg (here in colab)\\n'"
      ]
     },
     "execution_count": 24,
     "metadata": {},
     "output_type": "execute_result"
    }
   ],
   "source": [
    "def pix2pix():\n",
    "  #input.jpg must be on a dir content/uploads\n",
    "  realInput_dataset = generateRealInputDataset(['input.jpg'])\n",
    "  for inp in realInput_dataset.take(1):\n",
    "    img = generate_images(generator, inp)\n",
    "    #img is a np array\n",
    "  return img\n",
    "#over all it works but it should be in the next form \n",
    "\"\"\"\n",
    "-it depends on the checkpoints saved at my drive, it imports the last chkpt storaged there\n",
    "  just as i remember right now, chkpts involves the formal files and the index file to check which is the last \n",
    "  so in order to make it run from other places it must have acces to  my drive or to any path which contains the ckpt\n",
    "\n",
    "-It requires that the input image exist on a Uploads dir at cwd, for colab the path is content/Uploads/input.jpg\n",
    "  so for the functionin, that  image must be updated each time we want to do a prediction, also to not generate and\n",
    "  storage a lot of images it can be overwritten \n",
    "\n",
    "-is enough to call pix2pix() to make a prediction using content/Uploads/input.jpg it will returns a np array and will save\n",
    "  the predicted image at current dir /content/pixout.jpg (here in colab)\n",
    "\"\"\"\n",
    "#print(pix2pix())"
   ]
  },
  {
   "cell_type": "markdown",
   "metadata": {
    "colab_type": "text",
    "id": "7r3SxrFmVyGq"
   },
   "source": [
    "#Object Detection pre trained model load"
   ]
  },
  {
   "cell_type": "code",
   "execution_count": 25,
   "metadata": {
    "colab": {
     "base_uri": "https://localhost:8080/",
     "height": 34
    },
    "colab_type": "code",
    "id": "b3w61T4HVv8z",
    "outputId": "5693f3e9-99c2-4faa-9819-7b4955c10e82",
    "scrolled": true
   },
   "outputs": [
    {
     "name": "stdout",
     "output_type": "stream",
     "text": [
      "INFO:tensorflow:Saver not created because there are no variables in the graph to restore\n"
     ]
    }
   ],
   "source": [
    "\"\"\" \n",
    "-This requires to upload or to have in the cwd a dir called saved_model, that follows the next structure\n",
    "  saved_model:\n",
    "    saved_model.pb\n",
    "    variables:\n",
    "      {empty}\n",
    "\"\"\"\n",
    "def load_ODmodel():\n",
    "  model_dir = \"saved_model\"\n",
    "  model = tf.saved_model.load(model_dir)\n",
    "  model = model.signatures['serving_default']\n",
    "\n",
    "  return model\n",
    "\n",
    "detection_model = load_ODmodel()"
   ]
  },
  {
   "cell_type": "markdown",
   "metadata": {
    "colab_type": "text",
    "id": "Yx-bnrXPYEV1"
   },
   "source": [
    "#Object Detection output generator"
   ]
  },
  {
   "cell_type": "code",
   "execution_count": 26,
   "metadata": {
    "colab": {},
    "colab_type": "code",
    "id": "T2rYYX-tYLE5",
    "scrolled": true
   },
   "outputs": [],
   "source": [
    "def run_inference_for_single_image(model, image):\n",
    "  image = np.asarray(image)\n",
    "  # The input needs to be a tensor, convert it using `tf.convert_to_tensor`.\n",
    "  input_tensor = tf.convert_to_tensor(image)\n",
    "  # The model expects a batch of images, so add an axis with `tf.newaxis`.\n",
    "  input_tensor = input_tensor[tf.newaxis,...]\n",
    "\n",
    "  # Run inference\n",
    "  output_dict = model(input_tensor)\n",
    "\n",
    "  # All outputs are batches tensors.\n",
    "  # Convert to numpy arrays, and take index [0] to remove the batch dimension.\n",
    "  # We're only interested in the first num_detections.\n",
    "  num_detections = int(output_dict.pop('num_detections'))\n",
    "  output_dict = {key:value[0, :num_detections].numpy() \n",
    "                 for key,value in output_dict.items()}\n",
    "  output_dict['num_detections'] = num_detections\n",
    "\n",
    "  # detection_classes should be ints.\n",
    "  output_dict['detection_classes'] = output_dict['detection_classes'].astype(np.int64)\n",
    "   \n",
    "  # Handle models with masks:\n",
    "  if 'detection_masks' in output_dict:\n",
    "    # Reframe the the bbox mask to the image size.\n",
    "    detection_masks_reframed = utils_ops.reframe_box_masks_to_image_masks(\n",
    "              output_dict['detection_masks'], output_dict['detection_boxes'],\n",
    "               image.shape[0], image.shape[1])      \n",
    "    detection_masks_reframed = tf.cast(detection_masks_reframed > 0.5,\n",
    "                                       tf.uint8)\n",
    "    output_dict['detection_masks_reframed'] = detection_masks_reframed.numpy()\n",
    "    \n",
    "  return output_dict"
   ]
  },
  {
   "cell_type": "code",
   "execution_count": 27,
   "metadata": {
    "colab": {},
    "colab_type": "code",
    "id": "2lxfuqGbYPys",
    "scrolled": true
   },
   "outputs": [],
   "source": [
    "\"\"\"\n",
    "\n",
    "\n",
    "I have edited this code: \n",
    "models/research/object_detection/utils/visualization_utils.py\n",
    "\n",
    "IT MUST BE REPLACED WITH THE NEW ONE \n",
    "\n",
    "but the replacement is already implemented in the Dependencies section\n",
    "\n",
    "\n",
    "\"\"\"\n",
    "def show_inference(model, image_path):\n",
    "  # the array based representation of the image will be used later in order to prepare the\n",
    "  # result image with boxes and labels on it.\n",
    "  image_np = np.array(Image.open(image_path))\n",
    "  print (image_np)\n",
    "  # Actual detection.\n",
    "  output_dict = run_inference_for_single_image(model, image_np )\n",
    "  # Visualization of the results of a detection.\n",
    "  imageIdentified , coordinates = vis_util.visualize_boxes_and_labels_on_image_array(\n",
    "      image_np ,\n",
    "      output_dict['detection_boxes'],\n",
    "      output_dict['detection_classes'],\n",
    "      output_dict['detection_scores'],\n",
    "      category_index,\n",
    "      instance_masks=output_dict.get('detection_masks_reframed', None),\n",
    "      use_normalized_coordinates=True,\n",
    "      line_thickness=8)\n",
    "\n",
    "  display(Image.fromarray(imageIdentified))\n",
    "  return imageIdentified, coordinates\n",
    "  \"\"\"  \n",
    "  coordinates  = [  [im_width, im_height], \n",
    "                    [Type,x,y], \n",
    "                    [type,x,y], \n",
    "                    [type,x,y],\n",
    "                    [type,x,y],\n",
    "                    .....   ]\n",
    "  \"\"\""
   ]
  },
  {
   "cell_type": "markdown",
   "metadata": {
    "colab_type": "text",
    "id": "hU_AmsQ_Y4wO"
   },
   "source": [
    "#Object Detection call"
   ]
  },
  {
   "cell_type": "code",
   "execution_count": 28,
   "metadata": {
    "colab": {},
    "colab_type": "code",
    "id": "-aBWGPBqY4Tj",
    "scrolled": true
   },
   "outputs": [],
   "source": [
    "def objectDetection():\n",
    "  load_paths()\n",
    "  coord=[]\n",
    "  for image_path in TEST_IMAGE_PATHS:\n",
    "    image,coord = show_inference(detection_model, image_path)\n",
    "  return coord"
   ]
  },
  {
   "cell_type": "markdown",
   "metadata": {
    "colab_type": "text",
    "id": "uoOKnhRzaNQU"
   },
   "source": [
    "#Best parking space finder"
   ]
  },
  {
   "cell_type": "code",
   "execution_count": 29,
   "metadata": {
    "colab": {},
    "colab_type": "code",
    "id": "I0foSXwsf56K",
    "scrolled": true
   },
   "outputs": [],
   "source": [
    "def findBestCoord(coord):\n",
    "  if len(coord) != 0:\n",
    "    #extract the size list\n",
    "    size = coord[0]\n",
    "    #extract the found objects list\n",
    "    objects = coord[1:]\n",
    "\n",
    "    #to separate the reference points and the parking lots coordinates\n",
    "    parking = []\n",
    "    entrance = []\n",
    "    exits = []\n",
    "    for obj in objects:\n",
    "      if obj[0] == 'parking':\n",
    "        parking.append(obj)\n",
    "      elif obj[0] == 'entrance':\n",
    "        entrance.append(obj)\n",
    "      elif obj[0] == 'exit':\n",
    "        exits.append(obj)\n",
    "      elif obj[0] == 'bPoint':\n",
    "        exits.append(obj)\n",
    "      elif obj[0] == 'aPoint':\n",
    "        entrance.append(obj)\n",
    "      else:\n",
    "        print (\"oie Si\")\n",
    "    \n",
    "    #Save the coordinates of the initial point \n",
    "    if len(entrance) != 0:\n",
    "      initialPoint = []\n",
    "      for point in entrance:\n",
    "        if point[0] == 'entrance':\n",
    "          initialPoint = point\n",
    "        elif point[0] == 'aPoint':\n",
    "          initialPoint = point\n",
    "        else:\n",
    "          print(\"jaja kesesto: \"+ point[0])\n",
    "      \n",
    "      if len(exits) != 0:\n",
    "        finalPoint = []\n",
    "        for point in exits:\n",
    "          if point[0] == 'bPoint':\n",
    "            finalPoint = point\n",
    "          elif point[0] == 'exit':\n",
    "            finalPoint = point\n",
    "          else:\n",
    "            print(\"jaja kesesto: \"+ point[0])\n",
    "      else:\n",
    "        print(\"Exit list is empty\")\n",
    "        res = []\n",
    "        return res\n",
    "\n",
    "      #Find the closest park lot, with respect to the initial point \n",
    "      if len(initialPoint) != 0:\n",
    "        x1 = initialPoint[1]\n",
    "        y1 = initialPoint[2]\n",
    "        distances = []\n",
    "        for park in parking:\n",
    "          x2 = park[1]\n",
    "          y2 = park[2]\n",
    "          x = pow((x2-x1),2)\n",
    "          y = pow((y2-y1),2)\n",
    "          d = math.sqrt(x+y)\n",
    "          distances.append([d,park[0],park[1],park[2]])\n",
    "        if len(distances) != 0:\n",
    "          chosenParklot = distances[0]\n",
    "          for dist in distances:\n",
    "            if dist[0] < chosenParklot[0]:\n",
    "                chosenParklot = dist\n",
    "          #chosenarklot contains the list of the information for the best placed parking lot \n",
    "          #with the shape [distance, type, x, y]\n",
    "          distanceBegEnd = finalPoint[1] - initialPoint[1]\n",
    "          fractionOfDist = distanceBegEnd/6\n",
    "          for i in range(6):\n",
    "            lowerLimit = fractionOfDist * i\n",
    "            upperLimit = fractionOfDist * (i+1)\n",
    "            fixedPoint = chosenParklot[2] - initialPoint[1]\n",
    "            selectedPoint = []\n",
    "            if lowerLimit < fixedPoint and fixedPoint < upperLimit:\n",
    "                reference = initialPoint[2]\n",
    "                if chosenParklot[3] > reference:\n",
    "                    strin = 'B' + str(i+1)\n",
    "                    selectedPoint.append(strin)\n",
    "                    selectedPoint.append(chosenParklot[0])\n",
    "                    selectedPoint.append(chosenParklot[1])\n",
    "                    selectedPoint.append(chosenParklot[2])\n",
    "                    selectedPoint.append(chosenParklot[3])\n",
    "                    return selectedPoint\n",
    "                elif chosenParklot[3] < reference:\n",
    "                    strin = 'A' + str(i+1)\n",
    "                    selectedPoint.append(strin)\n",
    "                    selectedPoint.append(chosenParklot[0])\n",
    "                    selectedPoint.append(chosenParklot[1])\n",
    "                    selectedPoint.append(chosenParklot[2])\n",
    "                    selectedPoint.append(chosenParklot[3])\n",
    "                    return selectedPoint\n",
    "                else:\n",
    "                    print (\"jajaja ontoi\")\n",
    "        else:\n",
    "          print(\"Distances list is empty\")\n",
    "          res = []\n",
    "          return res\n",
    "      else:\n",
    "        print(\"InitialPoint list is empty\")\n",
    "        res = []\n",
    "        return res\n",
    "    else:\n",
    "      print(\"Entrance list is empty\") \n",
    "      res = []\n",
    "      return res\n",
    "  else:\n",
    "    print(\"Coordinates list is empty\")\n",
    "    return coord"
   ]
  },
  {
   "cell_type": "markdown",
   "metadata": {
    "colab_type": "text",
    "id": "3IcTE5ndZmw6"
   },
   "source": [
    "#Let's make this work"
   ]
  },
  {
   "cell_type": "code",
   "execution_count": 30,
   "metadata": {},
   "outputs": [
    {
     "name": "stdout",
     "output_type": "stream",
     "text": [
      "*******************************************************************************************************\n",
      "CONNECTING TO DRONE\n",
      "*******************************************************************************************************\n",
      "02/12/2019 18:31:35.275694\t_create_pomp_loop               Creating pomp loop\u001b[0m\n",
      "02/12/2019 18:31:35.277179\t_create_manager                 New manager has been created!\u001b[0m\n",
      "02/12/2019 18:31:35.278051\t_create_manager                 Manager device callbacks has been added to the manager\u001b[0m\n",
      "02/12/2019 18:31:35.279104\t_create_net_backend             New net backend has been created\u001b[0m\n",
      "02/12/2019 18:31:35.279869\t_create_net_backend             Set backend socket callback OK\u001b[0m\n",
      "02/12/2019 18:31:35.320291\t_create_pomp_loop               Creating pomp loop\u001b[0m\n",
      "02/12/2019 18:31:35.323676\t_create_pomp_loop               Creating pomp loop\u001b[0m\n",
      "02/12/2019 18:31:35.326187\tcreate_timer                    Creating pomp timer\u001b[0m\n",
      "02/12/2019 18:31:35.328786\tcreate_timer                    Creating pomp timer\u001b[0m\n",
      "02/12/2019 18:31:35.334085\t_start_net_discovery            Net discovery object has been created\u001b[0m\n",
      "I arsdkctrl: discovery 'net': start\n",
      "02/12/2019 18:31:35.335515\t_backend_socket_cb              backend_pointer <olympe_deps.LP_struct_arsdkctrl_backend_net object at 0x7f06dcb0ba60> socket_fd 18 socket_kind 0 userdate_pointer None\u001b[0m\n",
      "02/12/2019 18:31:35.336716\t_start_net_discovery            Net discovery has been started\u001b[0m\n",
      "I arsdkctrl: discovery 'net': add device name='ANAFI-0000000' id='000000000000000000'\n",
      "02/12/2019 18:31:35.342658\t_device_added_cb                New device has been detected\u001b[0m\n",
      "02/12/2019 18:31:35.343662\t_device_added_cb                {'state': 0}\u001b[0m\n",
      "02/12/2019 18:31:35.345975\t_backend_socket_cb              backend_pointer <olympe_deps.LP_struct_arsdkctrl_backend_net object at 0x7f06dca8b048> socket_fd 21 socket_kind 2 userdate_pointer None\u001b[0m\n",
      "02/12/2019 18:31:35.348021\t_backend_socket_cb              backend_pointer <olympe_deps.LP_struct_arsdkctrl_backend_net object at 0x7f06dca8b048> socket_fd 22 socket_kind 1 userdate_pointer None\u001b[0m\n",
      "02/12/2019 18:31:35.350268\t_connecting_cb                  Connecting to device: ANAFI-0000000\u001b[0m\n",
      "02/12/2019 18:31:35.351269\t_connect_to_device              Connection in progress...\u001b[0m\n",
      "I arsdkctrl_net: Sending json:\n",
      "I arsdkctrl_net: { \"arstream2_client_stream_port\": \"55004\", \"arstream2_client_control_port\": \"55005\", \"arstream2_supported_metadata_version\": \"1\", \"controller_name\": \"arsdk-ng\", \"controller_type\": \"desktop\", \"d2c_port\": 9988, \"device_id\": \"\", \"qos_mode\": 0 }\n",
      "I arsdkctrl_net: Received json:\n",
      "I arsdkctrl_net: { \"c2d_update_port\": 51, \"c2d_user_port\": 21, \"status\": 0, \"c2d_port\": 2233, \"qos_mode\": 0, \"proto_v\": 1 }\n",
      "02/12/2019 18:31:35.354592\t_connected_cb                   Connected to device: ANAFI-0000000\u001b[0m\n",
      "02/12/2019 18:31:35.357826\t_connected_cb                   {'json': {'c2d_port': 2233,\n",
      "          'c2d_update_port': 51,\n",
      "          'c2d_user_port': 21,\n",
      "          'proto_v': 1,\n",
      "          'qos_mode': 0,\n",
      "          'status': 0},\n",
      " 'state': 0}\u001b[0m\n",
      "02/12/2019 18:31:35.359255\t_create_command_interface       Command interface has been created: itf=<olympe_deps.LP_struct_arsdk_cmd_itf object at 0x7f06dca66ea0>\u001b[0m\n",
      "02/12/2019 18:31:35.386404\t_recv_cmd_cb                    common.ARLibsVersionsState.DeviceLibARCommandsVersion(version='4.0.0.4')\u001b[0m\n",
      "02/12/2019 18:31:35.388164\t_recv_cmd_cb                    common.CommonState.BatteryStateChanged(percent=100)\u001b[0m\n",
      "02/12/2019 18:31:35.390350\t_recv_cmd_cb                    common.CommonState.BootId(bootId='BA6733EDDE1F7F2CB432FA76F23F99D8')\u001b[0m\n",
      "02/12/2019 18:31:35.392891\t_recv_cmd_cb                    common.CalibrationState.MagnetoCalibrationRequiredState(required=0)\u001b[0m\n",
      "02/12/2019 18:31:35.394755\t_recv_cmd_cb                    ardrone3.PilotingState.AlertStateChanged(state=AlertStateChanged_State.none)\u001b[0m\n",
      "02/12/2019 18:31:35.396652\t_recv_cmd_cb                    common.CommonState.SensorsStatesListChanged(sensorName=SensorsStatesListChanged_SensorName.IMU, sensorState=1)\u001b[0m\n",
      "02/12/2019 18:31:35.398379\t_recv_cmd_cb                    common.CommonState.SensorsStatesListChanged(sensorName=SensorsStatesListChanged_SensorName.magnetometer, sensorState=1)\u001b[0m\n",
      "02/12/2019 18:31:35.400560\t_recv_cmd_cb                    common.CommonState.SensorsStatesListChanged(sensorName=SensorsStatesListChanged_SensorName.barometer, sensorState=1)\u001b[0m\n",
      "02/12/2019 18:31:35.402225\t_recv_cmd_cb                    common.CommonState.SensorsStatesListChanged(sensorName=SensorsStatesListChanged_SensorName.GPS, sensorState=1)\u001b[0m\n",
      "02/12/2019 18:31:35.403957\t_recv_cmd_cb                    common.CommonState.SensorsStatesListChanged(sensorName=SensorsStatesListChanged_SensorName.ultrasound, sensorState=1)\u001b[0m\n",
      "02/12/2019 18:31:35.405640\t_recv_cmd_cb                    common.CommonState.SensorsStatesListChanged(sensorName=SensorsStatesListChanged_SensorName.vertical_camera, sensorState=1)\u001b[0m\n",
      "02/12/2019 18:31:35.407843\t_recv_cmd_cb                    battery.alert(alert=alert.power_level, level=alert_level.none, list_flags='First')\u001b[0m\n",
      "02/12/2019 18:31:35.409611\t_recv_cmd_cb                    battery.alert(alert=alert.too_hot, level=alert_level.none, list_flags='')\u001b[0m\n",
      "02/12/2019 18:31:35.411737\t_recv_cmd_cb                    battery.alert(alert=alert.too_cold, level=alert_level.none, list_flags='Last')\u001b[0m\n",
      "02/12/2019 18:31:35.413662\t_recv_cmd_cb                    battery.health(state_of_health=100)\u001b[0m\n",
      "02/12/2019 18:31:35.415648\t_recv_cmd_cb                    ardrone3.GPSSettingsState.GPSFixStateChanged(fixed=1)\u001b[0m\n",
      "02/12/2019 18:31:35.417434\t_recv_cmd_cb                    ardrone3.GPSState.NumberOfSatelliteChanged(numberOfSatellite=12)\u001b[0m\n",
      "02/12/2019 18:31:35.419330\t_recv_cmd_cb                    ardrone3.SettingsState.MotorSoftwareVersionChanged(version='0.1.x.4')\u001b[0m\n",
      "02/12/2019 18:31:35.421071\t_recv_cmd_cb                    ardrone3.SettingsState.MotorErrorStateChanged(motorIds=15, motorError=MotorErrorStateChanged_MotorError.noError)\u001b[0m\n",
      "02/12/2019 18:31:35.423526\t_recv_cmd_cb                    ardrone3.SettingsState.MotorFlightsStatusChanged(nbFlights=0, lastFlightDuration=0, totalFlightDuration=0)\u001b[0m\n",
      "02/12/2019 18:31:35.426139\t_recv_cmd_cb                    ardrone3.SettingsState.MotorErrorLastErrorChanged(motorError=MotorErrorLastErrorChanged_MotorError.noError)\u001b[0m\n",
      "02/12/2019 18:31:35.428419\t_recv_cmd_cb                    user_storage.state(physical_state=phy_state.undetected, file_system_state=fs_state.unknown, attribute='', monitor_enabled=0, monitor_period=0)\u001b[0m\n",
      "02/12/2019 18:31:35.430978\t_recv_cmd_cb                    user_storage.info(name='', capacity=0)\u001b[0m\n",
      "02/12/2019 18:31:35.433001\t_recv_cmd_cb                    user_storage.capabilities(supported_features='format_when_ready_allowed|format_result_evt_supported|format_progress_evt_supported')\u001b[0m\n",
      "02/12/2019 18:31:35.435220\t_recv_cmd_cb                    user_storage.supported_formatting_types(supported_types='full|quick')\u001b[0m\n",
      "02/12/2019 18:31:35.437165\t_recv_cmd_cb                    common.CalibrationState.MagnetoCalibrationStartedChanged(started=0)\u001b[0m\n",
      "02/12/2019 18:31:35.439663\t_recv_cmd_cb                    ardrone3.PilotingState.NavigateHomeStateChanged(state=NavigateHomeStateChanged_State.unavailable, reason=NavigateHomeStateChanged_Reason.userRequest)\u001b[0m\n",
      "02/12/2019 18:31:35.442697\t_recv_cmd_cb                    ardrone3.GPSState.HomeTypeAvailabilityChanged(type=HomeTypeAvailabilityChanged_Type.TAKEOFF, available=0)\u001b[0m\n",
      "02/12/2019 18:31:35.444100\t_recv_cmd_cb                    ardrone3.GPSState.HomeTypeAvailabilityChanged(type=HomeTypeAvailabilityChanged_Type.PILOT, available=0)\u001b[0m\n",
      "02/12/2019 18:31:35.445578\t_recv_cmd_cb                    ardrone3.GPSState.HomeTypeAvailabilityChanged(type=HomeTypeAvailabilityChanged_Type.FIRST_FIX, available=4)\u001b[0m\n",
      "02/12/2019 18:31:35.447134\t_recv_cmd_cb                    ardrone3.GPSState.HomeTypeAvailabilityChanged(type=HomeTypeAvailabilityChanged_Type.FOLLOWEE, available=0)\u001b[0m\n",
      "02/12/2019 18:31:35.449156\t_recv_cmd_cb                    ardrone3.GPSState.HomeTypeChosenChanged(type=HomeTypeChosenChanged_Type.FIRST_FIX)\u001b[0m\n",
      "02/12/2019 18:31:35.451191\t_recv_cmd_cb                    rth.home_reachability(status=home_reachability.unknown)\u001b[0m\n",
      "02/12/2019 18:31:35.453142\t_recv_cmd_cb                    rth.rth_auto_trigger(reason=auto_trigger_reason.none, delay=0)\u001b[0m\n",
      "02/12/2019 18:31:35.455200\t_recv_cmd_cb                    ardrone3.PilotingState.ForcedLandingAutoTrigger(reason=ForcedLandingAutoTrigger_Reason.NONE, delay=0)\u001b[0m\n",
      "02/12/2019 18:31:35.457359\t_recv_cmd_cb                    ardrone3.PilotingState.WindStateChanged(state=WindStateChanged_State.ok)\u001b[0m\n",
      "Traceback (most recent call last):\n",
      "  File \"_ctypes/callbacks.c\", line 234, in 'calling callback function'\n",
      "  File \"/home/rodrigo/code/parrot-groundsdk/out/olympe-linux/final/usr/lib/python3.6/site-packages/olympe_deps.py\", line 70, in <lambda>\n",
      "    type_((lambda callback: lambda *args: callback(*args))(bound_fields[name]))\n",
      "  File \"/home/rodrigo/code/parrot-groundsdk/packages/olympe/src/olympe/arsdkng/drone.py\", line 408, in _recv_cmd_cb\n",
      "    raise RuntimeError(\"Unknown message id {}\".format(message_id))\n",
      "RuntimeError: Unknown message id 17039380\n",
      "02/12/2019 18:31:35.462790\t_recv_cmd_cb                    common.MavlinkState.MavlinkFilePlayingStateChanged(state=MavlinkFilePlayingStateChanged_State.stopped, filepath='', type=MavlinkFilePlayingStateChanged_Type.flightPlan)\u001b[0m\n",
      "02/12/2019 18:31:35.464981\t_recv_cmd_cb                    common.FlightPlanState.ComponentStateListChanged(component=ComponentStateListChanged_Component.GPS, State=1)\u001b[0m\n",
      "02/12/2019 18:31:35.467065\t_recv_cmd_cb                    common.FlightPlanState.ComponentStateListChanged(component=ComponentStateListChanged_Component.Calibration, State=1)\u001b[0m\n",
      "02/12/2019 18:31:35.469319\t_recv_cmd_cb                    common.FlightPlanState.ComponentStateListChanged(component=ComponentStateListChanged_Component.TakeOff, State=1)\u001b[0m\n",
      "02/12/2019 18:31:35.471341\t_recv_cmd_cb                    common.FlightPlanState.AvailabilityStateChanged(AvailabilityState=1)\u001b[0m\n",
      "02/12/2019 18:31:35.473690\t_recv_cmd_cb                    follow_me.state(mode=mode.none, behavior=behavior.idle, animation=animation.none, animation_available='')\u001b[0m\n",
      "02/12/2019 18:31:35.476009\t_recv_cmd_cb                    follow_me.target_framing_position_changed(horizontal=0, vertical=0)\u001b[0m\n",
      "02/12/2019 18:31:35.478127\t_recv_cmd_cb                    follow_me.target_image_detection_state(state=image_detection_status.none)\u001b[0m\n"
     ]
    },
    {
     "name": "stdout",
     "output_type": "stream",
     "text": [
      "02/12/2019 18:31:35.480413\t_recv_cmd_cb                    follow_me.mode_info(mode=mode.look_at, missing_requirements='drone_calibrated|drone_gps_good_accuracy|target_gps_good_accuracy|target_barometer_ok|drone_far_enough|drone_high_enough', improvements='drone_calibrated|drone_gps_good_accuracy|target_gps_good_accuracy|target_barometer_ok|drone_far_enough|drone_high_enough|image_detection')\u001b[0m\n",
      "02/12/2019 18:31:35.482905\t_recv_cmd_cb                    follow_me.mode_info(mode=mode.geographic, missing_requirements='target_barometer_ok|drone_far_enough|drone_high_enough', improvements='drone_calibrated|drone_gps_good_accuracy|target_gps_good_accuracy|target_barometer_ok|drone_far_enough|drone_high_enough|image_detection')\u001b[0m\n",
      "02/12/2019 18:31:35.484933\t_recv_cmd_cb                    follow_me.mode_info(mode=mode.relative, missing_requirements='target_barometer_ok|drone_far_enough|drone_high_enough', improvements='drone_calibrated|drone_gps_good_accuracy|target_gps_good_accuracy|target_barometer_ok|drone_far_enough|drone_high_enough|image_detection')\u001b[0m\n",
      "02/12/2019 18:31:35.486576\t_recv_cmd_cb                    follow_me.mode_info(mode=mode.leash, missing_requirements='target_barometer_ok|drone_far_enough|drone_high_enough', improvements='drone_calibrated|drone_gps_good_accuracy|target_gps_good_accuracy|target_barometer_ok|drone_far_enough|drone_high_enough|image_detection')\u001b[0m\n",
      "02/12/2019 18:31:35.488665\t_recv_cmd_cb                    follow_me.target_is_controller(state=0)\u001b[0m\n",
      "02/12/2019 18:31:35.491424\t_recv_cmd_cb                    ardrone3.SoundState.AlertSound(state=AlertSound_State.stopped)\u001b[0m\n",
      "02/12/2019 18:31:35.493980\t_recv_cmd_cb                    mediastore.state(state=state.indexed)\u001b[0m\n",
      "02/12/2019 18:31:35.495955\t_recv_cmd_cb                    mediastore.counters(video_media_count=0, photo_media_count=0, video_resource_count=0, photo_resource_count=0)\u001b[0m\n",
      "02/12/2019 18:31:35.497997\t_recv_cmd_cb                    ardrone3.PilotingState.HoveringWarning(no_gps_too_dark=0, no_gps_too_high=0)\u001b[0m\n",
      "02/12/2019 18:31:35.500036\t_recv_cmd_cb                    camera.camera_mode(cam_id=0, mode=camera_mode.recording)\u001b[0m\n",
      "02/12/2019 18:31:35.502151\t_recv_cmd_cb                    camera.hdr_setting(cam_id=0, value=state.inactive)\u001b[0m\n",
      "02/12/2019 18:31:35.504303\t_recv_cmd_cb                    camera.hdr(cam_id=0, available=availability.not_available, state=state.inactive)\u001b[0m\n",
      "02/12/2019 18:31:35.506568\t_recv_cmd_cb                    camera.photo_mode(cam_id=0, mode=photo_mode.single, format=photo_format.full_frame, file_format=photo_file_format.jpeg, burst=burst_value.burst_14_over_1s, bracketing=bracketing_preset.preset_1ev, capture_interval=0.0)\u001b[0m\n",
      "02/12/2019 18:31:35.508557\t_recv_cmd_cb                    camera.recording_mode(cam_id=0, mode=recording_mode.standard, resolution=resolution.res_uhd_4k, framerate=framerate.fps_30, hyperlapse=hyperlapse_value.ratio_15, bitrate=10000000)\u001b[0m\n",
      "02/12/2019 18:31:35.511109\t_recv_cmd_cb                    camera.white_balance(cam_id=0, mode=white_balance_mode.automatic, temperature=white_balance_temperature.t_1500, lock=state.inactive)\u001b[0m\n",
      "02/12/2019 18:31:35.514754\t_recv_cmd_cb                    camera.exposure_settings(cam_id=0, mode=exposure_mode.automatic, manual_shutter_speed=shutter_speed.shutter_1_over_10000, manual_shutter_speed_capabilities='shutter_1_over_10000|shutter_1_over_8000|shutter_1_over_6400|shutter_1_over_5000|shutter_1_over_4000|shutter_1_over_3200|shutter_1_over_2500|shutter_1_over_2000|shutter_1_over_1600|shutter_1_over_1250|shutter_1_over_1000|shutter_1_over_800|shutter_1_over_640|shutter_1_over_500|shutter_1_over_400|shutter_1_over_320|shutter_1_over_240|shutter_1_over_200|shutter_1_over_160|shutter_1_over_120|shutter_1_over_100|shutter_1_over_80|shutter_1_over_60|shutter_1_over_50|shutter_1_over_40|shutter_1_over_30', manual_iso_sensitivity=iso_sensitivity.iso_50, manual_iso_sensitivity_capabilities='iso_100|iso_160|iso_200|iso_320|iso_400|iso_640|iso_800|iso_1200|iso_1600|iso_2500|iso_3200', max_iso_sensitivity=iso_sensitivity.iso_3200, max_iso_sensitivities_capabilities='iso_3200')\u001b[0m\n",
      "02/12/2019 18:31:35.516886\t_recv_cmd_cb                    camera.ev_compensation(cam_id=0, value=ev_compensation.ev_0_00)\u001b[0m\n",
      "02/12/2019 18:31:35.519222\t_recv_cmd_cb                    camera.style(cam_id=0, style=style.standard, saturation=0, saturation_min=-2, saturation_max=2, contrast=0, contrast_min=-2, contrast_max=2, sharpness=0, sharpness_min=-1, sharpness_max=1)\u001b[0m\n",
      "02/12/2019 18:31:35.521365\t_recv_cmd_cb                    camera.recording_state(cam_id=0, available=availability.available, state=state.inactive, start_timestamp=0)\u001b[0m\n",
      "02/12/2019 18:31:35.523834\t_recv_cmd_cb                    ardrone3.MediaRecordState.VideoStateChangedV2(state=VideoStateChangedV2_State.stopped, error=VideoStateChangedV2_Error.ok)\u001b[0m\n",
      "02/12/2019 18:31:35.526091\t_recv_cmd_cb                    camera.photo_state(cam_id=0, available=availability.not_available, state=state.inactive)\u001b[0m\n",
      "Traceback (most recent call last):\n",
      "  File \"_ctypes/callbacks.c\", line 234, in 'calling callback function'\n",
      "  File \"/home/rodrigo/code/parrot-groundsdk/out/olympe-linux/final/usr/lib/python3.6/site-packages/olympe_deps.py\", line 70, in <lambda>\n",
      "    type_((lambda callback: lambda *args: callback(*args))(bound_fields[name]))\n",
      "  File \"/home/rodrigo/code/parrot-groundsdk/packages/olympe/src/olympe/arsdkng/drone.py\", line 408, in _recv_cmd_cb\n",
      "    raise RuntimeError(\"Unknown message id {}\".format(message_id))\n",
      "RuntimeError: Unknown message id 2399141940\n",
      "02/12/2019 18:31:35.530190\t_recv_cmd_cb                    camera.antiflicker_mode(mode=antiflicker_mode.mode_50hz, value=antiflicker_mode.mode_50hz)\u001b[0m\n",
      "02/12/2019 18:31:35.532737\t_recv_cmd_cb                    thermal.mode(mode=mode.disabled)\u001b[0m\n",
      "02/12/2019 18:31:35.536239\t_recv_cmd_cb                    thermal.palette_settings(mode=palette_mode.absolute, lowest_temp=0.0, highest_temp=0.0, outside_colorization=colorization_mode.limited, relative_range=relative_range_mode.locked, spot_type=spot_type.cold, spot_threshold=0.0)\u001b[0m\n",
      "02/12/2019 18:31:35.538982\t_recv_cmd_cb                    thermal.rendering(mode=rendering_mode.visible, blending_rate=0.0)\u001b[0m\n",
      "02/12/2019 18:31:35.540757\t_recv_cmd_cb                    thermal.emissivity(emissivity=0.0)\u001b[0m\n",
      "02/12/2019 18:31:35.543305\t_recv_cmd_cb                    thermal.background_temperature(background_temperature=0.0)\u001b[0m\n",
      "02/12/2019 18:31:35.545526\t_recv_cmd_cb                    thermal.sensitivity(current_range=range.low)\u001b[0m\n",
      "02/12/2019 18:31:35.548240\t_recv_cmd_cb                    thermal.shutter_mode(current_trigger=shutter_trigger.manual)\u001b[0m\n",
      "02/12/2019 18:31:35.550178\t_recv_cmd_cb                    camera.camera_states(active_cameras=1)\u001b[0m\n",
      "02/12/2019 18:31:35.551920\t_recv_cmd_cb                    camera.zoom_info(cam_id=0, available=availability.available, high_quality_maximum_level=1.4000070095062256, maximum_level=2.9999840259552)\u001b[0m\n",
      "02/12/2019 18:31:35.554122\t_recv_cmd_cb                    gimbal.axis_lock_state(gimbal_id=0, locked='')\u001b[0m\n",
      "02/12/2019 18:31:35.555988\t_recv_cmd_cb                    gimbal.alert(gimbal_id=0, error='')\u001b[0m\n",
      "02/12/2019 18:31:35.557709\t_recv_cmd_cb                    animation.availability(values='')\u001b[0m\n",
      "02/12/2019 18:31:35.559937\t_recv_cmd_cb                    animation.state(type=type.none, percent=0)\u001b[0m\n",
      "02/12/2019 18:31:35.561739\t_recv_cmd_cb                    common.SettingsState.BoardIdChanged(id='0x0')\u001b[0m\n",
      "02/12/2019 18:31:35.563948\t_recv_cmd_cb                    precise_home.mode(mode=mode.disabled)\u001b[0m\n",
      "02/12/2019 18:31:35.566776\t_recv_cmd_cb                    precise_home.state(state=state.unavailable)\u001b[0m\n",
      "02/12/2019 18:31:35.568530\t_recv_cmd_cb                    precise_home.capabilities(modes='disabled|standard')\u001b[0m\n",
      "Traceback (most recent call last):\n",
      "  File \"_ctypes/callbacks.c\", line 234, in 'calling callback function'\n",
      "  File \"/home/rodrigo/code/parrot-groundsdk/out/olympe-linux/final/usr/lib/python3.6/site-packages/olympe_deps.py\", line 70, in <lambda>\n",
      "    type_((lambda callback: lambda *args: callback(*args))(bound_fields[name]))\n",
      "  File \"/home/rodrigo/code/parrot-groundsdk/packages/olympe/src/olympe/arsdkng/drone.py\", line 408, in _recv_cmd_cb\n",
      "    raise RuntimeError(\"Unknown message id {}\".format(message_id))\n",
      "RuntimeError: Unknown message id 2600468483\n",
      "Traceback (most recent call last):\n",
      "  File \"_ctypes/callbacks.c\", line 234, in 'calling callback function'\n",
      "  File \"/home/rodrigo/code/parrot-groundsdk/out/olympe-linux/final/usr/lib/python3.6/site-packages/olympe_deps.py\", line 70, in <lambda>\n",
      "    type_((lambda callback: lambda *args: callback(*args))(bound_fields[name]))\n",
      "  File \"/home/rodrigo/code/parrot-groundsdk/packages/olympe/src/olympe/arsdkng/drone.py\", line 408, in _recv_cmd_cb\n",
      "    raise RuntimeError(\"Unknown message id {}\".format(message_id))\n",
      "RuntimeError: Unknown message id 2600468481\n",
      "02/12/2019 18:31:35.574621\t_recv_cmd_cb                    common.CommonState.AllStatesChanged()\u001b[0m\n",
      "02/12/2019 18:31:35.576256\t_send_command                   Common.Common.AllStates(): sent and acknowledged\u001b[0m\n",
      "02/12/2019 18:31:35.582078\t_recv_cmd_cb                    common.SettingsState.ProductSerialHighChanged(high='000000000')\u001b[0m\n"
     ]
    },
    {
     "name": "stdout",
     "output_type": "stream",
     "text": [
      "02/12/2019 18:31:35.585878\t_recv_cmd_cb                    common.SettingsState.ProductSerialLowChanged(low='000000000')\u001b[0m\n",
      "02/12/2019 18:31:35.587932\t_recv_cmd_cb                    common.SettingsState.ProductVersionChanged(software='1.6.1', hardware='HW_00')\u001b[0m\n",
      "02/12/2019 18:31:35.590780\t_recv_cmd_cb                    camera.camera_capabilities(cam_id=0, model=model.main, exposure_modes='automatic|automatic_prefer_iso_sensitivity|automatic_prefer_shutter_speed|manual_iso_sensitivity|manual_shutter_speed|manual', exposure_lock_supported=supported.supported, exposure_roi_lock_supported=supported.supported, ev_compensations='ev_minus_3_00|ev_minus_2_67|ev_minus_2_33|ev_minus_2_00|ev_minus_1_67|ev_minus_1_33|ev_minus_1_00|ev_minus_0_67|ev_minus_0_33|ev_0_00|ev_0_33|ev_0_67|ev_1_00|ev_1_33|ev_1_67|ev_2_00|ev_2_33|ev_2_67|ev_3_00', white_balance_modes='automatic|incandescent|fluorescent|cool_white_fluorescent|sunny|cloudy|green_foliage|blue_sky', custom_white_balance_temperatures='', white_balance_lock_supported=supported.supported, styles='standard|plog', camera_modes='recording|photo', hyperlapse_values='', bracketing_presets='', burst_values='', streaming_modes='', timelapse_interval_min=0.0, gpslapse_interval_min=0.0)\u001b[0m\n",
      "02/12/2019 18:31:35.592771\t_recv_cmd_cb                    camera.recording_capabilities(id=0, recording_modes='standard', resolutions='res_dci_4k', framerates='fps_24', hdr=supported.supported, list_flags='First')\u001b[0m\n",
      "02/12/2019 18:31:35.594671\t_recv_cmd_cb                    camera.recording_capabilities(id=1, recording_modes='standard|hyperlapse', resolutions='res_uhd_4k|res_2_7k|res_1080p', framerates='fps_24|fps_25|fps_30|fps_9', hdr=supported.supported, list_flags='')\u001b[0m\n",
      "02/12/2019 18:31:35.596624\t_recv_cmd_cb                    camera.recording_capabilities(id=2, recording_modes='slow_motion|high_framerate', resolutions='res_1080p|res_720p|res_1080p_sd', framerates='fps_48|fps_50|fps_60', hdr=supported.not_supported, list_flags='')\u001b[0m\n",
      "02/12/2019 18:31:35.598381\t_recv_cmd_cb                    camera.recording_capabilities(id=3, recording_modes='slow_motion|high_framerate', resolutions='res_720p', framerates='', hdr=supported.not_supported, list_flags='Last')\u001b[0m\n",
      "02/12/2019 18:31:35.600753\t_recv_cmd_cb                    camera.photo_capabilities(id=0, photo_modes='single|time_lapse|gps_lapse', photo_formats='full_frame', photo_file_formats='dng_jpeg', hdr=supported.supported, list_flags='First')\u001b[0m\n",
      "02/12/2019 18:31:35.602668\t_recv_cmd_cb                    camera.photo_capabilities(id=1, photo_modes='single|burst|time_lapse|gps_lapse', photo_formats='full_frame', photo_file_formats='jpeg', hdr=supported.supported, list_flags='')\u001b[0m\n",
      "02/12/2019 18:31:35.604428\t_recv_cmd_cb                    camera.photo_capabilities(id=2, photo_modes='single|burst|time_lapse|gps_lapse', photo_formats='rectilinear', photo_file_formats='jpeg', hdr=supported.supported, list_flags='')\u001b[0m\n",
      "02/12/2019 18:31:35.606301\t_recv_cmd_cb                    camera.photo_capabilities(id=3, photo_modes='single|bracketing|time_lapse|gps_lapse', photo_formats='full_frame', photo_file_formats='dng_jpeg', hdr=supported.not_supported, list_flags='')\u001b[0m\n",
      "02/12/2019 18:31:35.608105\t_recv_cmd_cb                    camera.photo_capabilities(id=4, photo_modes='single|bracketing|burst|time_lapse|gps_lapse', photo_formats='full_frame', photo_file_formats='jpeg', hdr=supported.not_supported, list_flags='')\u001b[0m\n",
      "02/12/2019 18:31:35.610008\t_recv_cmd_cb                    camera.photo_capabilities(id=5, photo_modes='single|bracketing|burst|time_lapse|gps_lapse', photo_formats='rectilinear', photo_file_formats='jpeg', hdr=supported.not_supported, list_flags='Last')\u001b[0m\n",
      "02/12/2019 18:31:35.611573\t_recv_cmd_cb                    camera.antiflicker_capabilities(supported_modes='off|mode_50hz|mode_60hz')\u001b[0m\n",
      "02/12/2019 18:31:35.613240\t_recv_cmd_cb                    thermal.capabilities(modes='')\u001b[0m\n",
      "02/12/2019 18:31:35.615011\t_recv_cmd_cb                    leds.capabilities(supported_capabilities='')\u001b[0m\n",
      "02/12/2019 18:31:35.616536\t_recv_cmd_cb                    ardrone3.PilotingSettingsState.MaxAltitudeChanged(current=30.0, min=0.5, max=4000.0)\u001b[0m\n",
      "02/12/2019 18:31:35.621798\t_recv_cmd_cb                    ardrone3.PilotingSettingsState.MaxDistanceChanged(current=100.0, min=10.0, max=4000.0)\u001b[0m\n",
      "02/12/2019 18:31:35.623479\t_recv_cmd_cb                    ardrone3.PilotingSettingsState.NoFlyOverMaxDistanceChanged(shouldNotFlyOver=0)\u001b[0m\n",
      "02/12/2019 18:31:35.624899\t_recv_cmd_cb                    ardrone3.PilotingSettingsState.MaxTiltChanged(current=20.0, min=1.0, max=40.0)\u001b[0m\n",
      "02/12/2019 18:31:35.626677\t_recv_cmd_cb                    ardrone3.SpeedSettingsState.MaxVerticalSpeedChanged(current=1.0, min=0.10000000149011612, max=4.0)\u001b[0m\n",
      "02/12/2019 18:31:35.628273\t_recv_cmd_cb                    ardrone3.SpeedSettingsState.MaxRotationSpeedChanged(current=70.0, min=3.0, max=200.0)\u001b[0m\n",
      "02/12/2019 18:31:35.629787\t_recv_cmd_cb                    ardrone3.SpeedSettingsState.MaxPitchRollRotationSpeedChanged(current=150.0, min=40.0, max=300.0)\u001b[0m\n",
      "02/12/2019 18:31:35.631169\t_recv_cmd_cb                    ardrone3.PilotingSettingsState.BankedTurnChanged(state=0)\u001b[0m\n",
      "02/12/2019 18:31:35.632690\t_recv_cmd_cb                    ardrone3.SpeedSettingsState.HullProtectionChanged(present=0)\u001b[0m\n",
      "02/12/2019 18:31:35.634282\t_recv_cmd_cb                    ardrone3.GPSSettingsState.ReturnHomeDelayChanged(delay=60)\u001b[0m\n",
      "02/12/2019 18:31:35.636361\t_recv_cmd_cb                    ardrone3.GPSSettingsState.ReturnHomeMinAltitudeChanged(value=20.0, min=20.0, max=100.0)\u001b[0m\n",
      "02/12/2019 18:31:35.637895\t_recv_cmd_cb                    ardrone3.PilotingSettingsState.MotionDetection(enabled=0)\u001b[0m\n",
      "02/12/2019 18:31:35.639332\t_recv_cmd_cb                    ardrone3.GPSSettingsState.HomeTypeChanged(type=HomeTypeChanged_Type.FOLLOWEE)\u001b[0m\n",
      "02/12/2019 18:31:35.641262\t_recv_cmd_cb                    common.SettingsState.ProductNameChanged(name='Parrot Drone')\u001b[0m\n",
      "02/12/2019 18:31:35.643526\t_recv_cmd_cb                    wifi.supported_security_types(types='open|wpa2')\u001b[0m\n",
      "02/12/2019 18:31:35.645063\t_recv_cmd_cb                    wifi.security_changed(type=security_type.open, key='', key_type=security_key_type.plain)\u001b[0m\n",
      "02/12/2019 18:31:35.646506\t_recv_cmd_cb                    wifi.ap_channel_changed(type=selection_type.auto_all, band=-1, channel=255)\u001b[0m\n",
      "02/12/2019 18:31:35.647847\t_recv_cmd_cb                    wifi.country_changed(selection_mode=country_selection.auto, code='FR')\u001b[0m\n",
      "02/12/2019 18:31:35.649168\t_recv_cmd_cb                    wifi.environment_changed(environment=environment.outdoor)\u001b[0m\n",
      "02/12/2019 18:31:35.650853\t_recv_cmd_cb                    gimbal.gimbal_capabilities(gimbal_id=0, model=model.main, axes='pitch|roll')\u001b[0m\n",
      "02/12/2019 18:31:35.653112\t_recv_cmd_cb                    gimbal.relative_attitude_bounds(gimbal_id=0, min_yaw=0.0, max_yaw=0.0, min_pitch=-135.0, max_pitch=105.0, min_roll=0.0, max_roll=0.0)\u001b[0m\n",
      "02/12/2019 18:31:35.655662\t_recv_cmd_cb                    gimbal.absolute_attitude_bounds(gimbal_id=0, min_yaw=0.0, max_yaw=0.0, min_pitch=-90.0, max_pitch=90.0, min_roll=0.0, max_roll=0.0)\u001b[0m\n",
      "02/12/2019 18:31:35.657787\t_recv_cmd_cb                    ardrone3.CameraState.VelocityRange(max_tilt=14.0, max_pan=0.0)\u001b[0m\n",
      "02/12/2019 18:31:35.659448\t_recv_cmd_cb                    gimbal.max_speed(gimbal_id=0, min_bound_yaw=0.0, max_bound_yaw=0.0, current_yaw=0.0, min_bound_pitch=1.0, max_bound_pitch=180.0, current_pitch=14.0, min_bound_roll=0.0, max_bound_roll=0.0, current_roll=0.0)\u001b[0m\n",
      "02/12/2019 18:31:35.660892\t_recv_cmd_cb                    ardrone3.CameraState.defaultCameraOrientationV2(tilt=0.0, pan=0.0)\u001b[0m\n",
      "02/12/2019 18:31:35.662381\t_recv_cmd_cb                    camera.max_zoom_speed(cam_id=0, min=0.009999999776482582, max=10.0, current=0.3400000035762787)\u001b[0m\n",
      "02/12/2019 18:31:35.663703\t_recv_cmd_cb                    camera.zoom_velocity_quality_degradation(cam_id=0, allowed=1)\u001b[0m\n",
      "02/12/2019 18:31:35.665059\t_recv_cmd_cb                    gimbal.calibration_state(state=calibration_state.required, gimbal_id=0)\u001b[0m\n",
      "02/12/2019 18:31:35.666924\t_recv_cmd_cb                    gimbal.offsets(gimbal_id=0, update_state=state.inactive, min_bound_yaw=0.0, max_bound_yaw=0.0, current_yaw=1.7625728266062555e-39, min_bound_pitch=-5.0, max_bound_pitch=5.0, current_pitch=278096.65625, min_bound_roll=-5.0, max_bound_roll=5.0, current_roll=1.7625728266062555e-39)\u001b[0m\n",
      "02/12/2019 18:31:35.668557\t_recv_cmd_cb                    camera.autorecord(cam_id=0, state=state.active)\u001b[0m\n",
      "02/12/2019 18:31:35.670473\t_recv_cmd_cb                    ardrone3.SettingsState.ProductGPSVersionChanged(software='', hardware='')\u001b[0m\n",
      "02/12/2019 18:31:35.671785\t_recv_cmd_cb                    common.SettingsState.AllSettingsChanged()\u001b[0m\n",
      "02/12/2019 18:31:35.672940\t_send_command                   Common.Settings.AllSettings(): sent and acknowledged\u001b[0m\n",
      "*******************************************************************************************************\n",
      "CONNECTION SUCCESSFUL\n",
      "*******************************************************************************************************\n"
     ]
    },
    {
     "name": "stdout",
     "output_type": "stream",
     "text": [
      "*******************************************************************************************************\n",
      "TAKING OFF\n",
      "*******************************************************************************************************\n",
      "02/12/2019 18:31:35.710387\t_send_command                   Ardrone3.Piloting.TakeOff(): has been sent asynchronously\u001b[0m\n",
      "Traceback (most recent call last):\n",
      "  File \"_ctypes/callbacks.c\", line 234, in 'calling callback function'\n",
      "  File \"/home/rodrigo/code/parrot-groundsdk/out/olympe-linux/final/usr/lib/python3.6/site-packages/olympe_deps.py\", line 70, in <lambda>\n",
      "    type_((lambda callback: lambda *args: callback(*args))(bound_fields[name]))\n",
      "  File \"/home/rodrigo/code/parrot-groundsdk/packages/olympe/src/olympe/arsdkng/drone.py\", line 408, in _recv_cmd_cb\n",
      "    raise RuntimeError(\"Unknown message id {}\".format(message_id))\n",
      "RuntimeError: Unknown message id 2600468481\n",
      "02/12/2019 18:31:35.762004\t_recv_cmd_cb                    common.RunState.RunIdChanged(runId='11A718')\u001b[0m\n",
      "Traceback (most recent call last):\n",
      "  File \"_ctypes/callbacks.c\", line 234, in 'calling callback function'\n",
      "  File \"/home/rodrigo/code/parrot-groundsdk/out/olympe-linux/final/usr/lib/python3.6/site-packages/olympe_deps.py\", line 70, in <lambda>\n",
      "    type_((lambda callback: lambda *args: callback(*args))(bound_fields[name]))\n",
      "  File \"/home/rodrigo/code/parrot-groundsdk/packages/olympe/src/olympe/arsdkng/drone.py\", line 408, in _recv_cmd_cb\n",
      "    raise RuntimeError(\"Unknown message id {}\".format(message_id))\n",
      "RuntimeError: Unknown message id 2600468481\n",
      "02/12/2019 18:31:37.227754\t_recv_cmd_cb                    camera.recording_progress(cam_id=0, result=recording_result.started, media_id='')\u001b[0m\n",
      "02/12/2019 18:31:37.231210\t_recv_cmd_cb                    camera.recording_state(cam_id=0, available=availability.available, state=state.active, start_timestamp=625096)\u001b[0m\n",
      "02/12/2019 18:31:37.234283\t_recv_cmd_cb                    ardrone3.MediaRecordState.VideoStateChangedV2(state=VideoStateChangedV2_State.started, error=VideoStateChangedV2_Error.ok)\u001b[0m\n",
      "02/12/2019 18:31:39.827518\t_recv_cmd_cb                    common.CommonState.BatteryStateChanged(percent=99)\u001b[0m\n",
      "02/12/2019 18:31:40.744793\t_recv_cmd_cb                    ardrone3.GPSState.HomeTypeAvailabilityChanged(type=HomeTypeAvailabilityChanged_Type.TAKEOFF, available=1)\u001b[0m\n",
      "02/12/2019 18:31:40.746810\t_recv_cmd_cb                    ardrone3.GPSState.HomeTypeChosenChanged(type=HomeTypeChosenChanged_Type.TAKEOFF)\u001b[0m\n",
      "02/12/2019 18:31:40.748737\t_recv_cmd_cb                    ardrone3.PilotingState.NavigateHomeStateChanged(state=NavigateHomeStateChanged_State.available, reason=NavigateHomeStateChanged_Reason.enabled)\u001b[0m\n",
      "*******************************************************************************************************\n",
      "02/12/2019 18:31:40.750938\t_recv_cmd_cb                    animation.availability(values='horizontal_panorama|dronie|horizontal_reveal|vertical_reveal|twist_up')\u001b[0m\n",
      "GOING TO HOME\n",
      "*******************************************************************************************************\n",
      "02/12/2019 18:31:40.754642\t_send_command                   Ardrone3.Piloting.MoveTo(c_double(48.87890000000001), c_double(2.3677799999999998), c_double(3.0), c_uint(0), c_double(0.0)): has been sent asynchronously\u001b[0m\n",
      "02/12/2019 18:31:40.818110\t_recv_cmd_cb                    ardrone3.PilotingState.moveToChanged(latitude=48.87890000000001, longitude=2.3677799999999998, altitude=3.0, orientation_mode=MoveToChanged_Orientation_mode.NONE, heading=88.31023406982422, status=MoveToChanged_Status.RUNNING)\u001b[0m\n",
      "02/12/2019 18:31:40.823564\t_recv_cmd_cb                    animation.availability(values='')\u001b[0m\n",
      "02/12/2019 18:31:49.709231\t_recv_cmd_cb                    ardrone3.PilotingState.moveToChanged(latitude=48.87890000000001, longitude=2.3677799999999998, altitude=3.0, orientation_mode=MoveToChanged_Orientation_mode.NONE, heading=88.31023406982422, status=MoveToChanged_Status.DONE)\u001b[0m\n",
      "02/12/2019 18:31:49.793511\t_recv_cmd_cb                    animation.availability(values='horizontal_panorama|dronie|horizontal_reveal|vertical_reveal|twist_up')\u001b[0m\n",
      "*******************************************************************************************************\n",
      "GOING TO PICTURE POINT\n",
      "*******************************************************************************************************\n",
      "02/12/2019 18:32:00.801962\t_send_command                   Ardrone3.Piloting.MoveTo(c_double(48.87898296850866), c_double(2.367688370122459), c_double(28.323415756225586), c_uint(0), c_double(0.0)): has been sent asynchronously\u001b[0m\n",
      "02/12/2019 18:32:00.873225\t_recv_cmd_cb                    ardrone3.PilotingState.moveToChanged(latitude=48.87898296850866, longitude=2.367688370122459, altitude=28.323415756225586, orientation_mode=MoveToChanged_Orientation_mode.NONE, heading=88.29215240478516, status=MoveToChanged_Status.RUNNING)\u001b[0m\n",
      "02/12/2019 18:32:00.880638\t_recv_cmd_cb                    animation.availability(values='')\u001b[0m\n",
      "*******************************************************************************************************\n",
      "AIMING CAMERA\n",
      "*******************************************************************************************************\n",
      "02/12/2019 18:32:20.832484\t_send_command                   Gimbal.Set_target(c_ubyte(0), c_uint(0), c_uint(2), c_double(0.0), c_uint(2), c_double(-90.0), c_uint(2), c_double(0.0)): has been sent asynchronously\u001b[0m\n",
      "02/12/2019 18:32:20.952997\t_send_command                   Camera.Set_camera_mode(c_ubyte(0), c_uint(1)): has been sent asynchronously\u001b[0m\n",
      "02/12/2019 18:32:24.332972\t_recv_cmd_cb                    common.CommonState.BatteryStateChanged(percent=98)\u001b[0m\n",
      "02/12/2019 18:32:25.788233\t_recv_cmd_cb                    camera.recording_progress(cam_id=0, result=recording_result.stopped_reconfigured, media_id='10000001')\u001b[0m\n",
      "02/12/2019 18:32:25.790597\t_recv_cmd_cb                    camera.recording_state(cam_id=0, available=availability.available, state=state.inactive, start_timestamp=625096)\u001b[0m\n",
      "02/12/2019 18:32:25.792794\t_recv_cmd_cb                    ardrone3.MediaRecordState.VideoStateChangedV2(state=VideoStateChangedV2_State.stopped, error=VideoStateChangedV2_Error.ok)\u001b[0m\n",
      "02/12/2019 18:32:25.859624\t_recv_cmd_cb                    camera.antiflicker_capabilities(supported_modes='off|mode_50hz|mode_60hz')\u001b[0m\n",
      "02/12/2019 18:32:25.863487\t_recv_cmd_cb                    camera.camera_capabilities(cam_id=0, model=model.main, exposure_modes='automatic|automatic_prefer_iso_sensitivity|automatic_prefer_shutter_speed|manual_iso_sensitivity|manual_shutter_speed|manual', exposure_lock_supported=supported.supported, exposure_roi_lock_supported=supported.supported, ev_compensations='ev_minus_3_00|ev_minus_2_67|ev_minus_2_33|ev_minus_2_00|ev_minus_1_67|ev_minus_1_33|ev_minus_1_00|ev_minus_0_67|ev_minus_0_33|ev_0_00|ev_0_33|ev_0_67|ev_1_00|ev_1_33|ev_1_67|ev_2_00|ev_2_33|ev_2_67|ev_3_00', white_balance_modes='automatic|incandescent|fluorescent|cool_white_fluorescent|sunny|cloudy|green_foliage|blue_sky', custom_white_balance_temperatures='', white_balance_lock_supported=supported.supported, styles='standard|plog', camera_modes='recording|photo', hyperlapse_values='', bracketing_presets='', burst_values='', streaming_modes='', timelapse_interval_min=0.0, gpslapse_interval_min=0.0)\u001b[0m\n",
      "02/12/2019 18:32:25.869638\t_recv_cmd_cb                    camera.recording_capabilities(id=0, recording_modes='standard', resolutions='res_dci_4k', framerates='fps_24', hdr=supported.supported, list_flags='First')\u001b[0m\n",
      "02/12/2019 18:32:25.871398\t_recv_cmd_cb                    camera.recording_capabilities(id=1, recording_modes='standard|hyperlapse', resolutions='res_uhd_4k|res_2_7k|res_1080p', framerates='fps_24|fps_25|fps_30|fps_9', hdr=supported.supported, list_flags='')\u001b[0m\n",
      "02/12/2019 18:32:25.873649\t_recv_cmd_cb                    camera.recording_capabilities(id=2, recording_modes='slow_motion|high_framerate', resolutions='res_1080p|res_720p|res_1080p_sd', framerates='fps_48|fps_50|fps_60', hdr=supported.not_supported, list_flags='')\u001b[0m\n",
      "02/12/2019 18:32:25.875772\t_recv_cmd_cb                    camera.recording_capabilities(id=3, recording_modes='slow_motion|high_framerate', resolutions='res_720p', framerates='', hdr=supported.not_supported, list_flags='Last')\u001b[0m\n",
      "02/12/2019 18:32:25.878388\t_recv_cmd_cb                    camera.photo_capabilities(id=0, photo_modes='single|time_lapse|gps_lapse', photo_formats='full_frame', photo_file_formats='dng_jpeg', hdr=supported.supported, list_flags='First')\u001b[0m\n",
      "02/12/2019 18:32:25.880030\t_recv_cmd_cb                    camera.photo_capabilities(id=1, photo_modes='single|burst|time_lapse|gps_lapse', photo_formats='full_frame', photo_file_formats='jpeg', hdr=supported.supported, list_flags='')\u001b[0m\n",
      "02/12/2019 18:32:25.881763\t_recv_cmd_cb                    camera.photo_capabilities(id=2, photo_modes='single|burst|time_lapse|gps_lapse', photo_formats='rectilinear', photo_file_formats='jpeg', hdr=supported.supported, list_flags='')\u001b[0m\n",
      "02/12/2019 18:32:25.883487\t_recv_cmd_cb                    camera.photo_capabilities(id=3, photo_modes='single|bracketing|time_lapse|gps_lapse', photo_formats='full_frame', photo_file_formats='dng_jpeg', hdr=supported.not_supported, list_flags='')\u001b[0m\n",
      "02/12/2019 18:32:25.885169\t_recv_cmd_cb                    camera.photo_capabilities(id=4, photo_modes='single|bracketing|burst|time_lapse|gps_lapse', photo_formats='full_frame', photo_file_formats='jpeg', hdr=supported.not_supported, list_flags='')\u001b[0m\n",
      "02/12/2019 18:32:25.886967\t_recv_cmd_cb                    camera.photo_capabilities(id=5, photo_modes='single|bracketing|burst|time_lapse|gps_lapse', photo_formats='rectilinear', photo_file_formats='jpeg', hdr=supported.not_supported, list_flags='Last')\u001b[0m\n",
      "02/12/2019 18:32:25.889364\t_recv_cmd_cb                    camera.camera_mode(cam_id=0, mode=camera_mode.photo)\u001b[0m\n",
      "02/12/2019 18:32:25.892409\t_recv_cmd_cb                    camera.exposure_settings(cam_id=0, mode=exposure_mode.automatic, manual_shutter_speed=shutter_speed.shutter_1_over_10000, manual_shutter_speed_capabilities='shutter_1_over_10000|shutter_1_over_8000|shutter_1_over_6400|shutter_1_over_5000|shutter_1_over_4000|shutter_1_over_3200|shutter_1_over_2500|shutter_1_over_2000|shutter_1_over_1600|shutter_1_over_1250|shutter_1_over_1000|shutter_1_over_800|shutter_1_over_640|shutter_1_over_500|shutter_1_over_400|shutter_1_over_320|shutter_1_over_240|shutter_1_over_200|shutter_1_over_160|shutter_1_over_120|shutter_1_over_100|shutter_1_over_80|shutter_1_over_60|shutter_1_over_50|shutter_1_over_40|shutter_1_over_30|shutter_1_over_25|shutter_1_over_15|shutter_1_over_10|shutter_1_over_8|shutter_1_over_6|shutter_1_over_4|shutter_1_over_3|shutter_1_over_2|shutter_1_over_1_5|shutter_1', manual_iso_sensitivity=iso_sensitivity.iso_50, manual_iso_sensitivity_capabilities='iso_100|iso_160|iso_200|iso_320|iso_400|iso_640|iso_800|iso_1200|iso_1600|iso_2500|iso_3200', max_iso_sensitivity=iso_sensitivity.iso_3200, max_iso_sensitivities_capabilities='iso_3200')\u001b[0m\n",
      "02/12/2019 18:32:25.895152\t_recv_cmd_cb                    camera.antiflicker_capabilities(supported_modes='off|mode_50hz|mode_60hz')\u001b[0m\n",
      "02/12/2019 18:32:25.898304\t_recv_cmd_cb                    camera.camera_capabilities(cam_id=0, model=model.main, exposure_modes='automatic|automatic_prefer_iso_sensitivity|automatic_prefer_shutter_speed|manual_iso_sensitivity|manual_shutter_speed|manual', exposure_lock_supported=supported.supported, exposure_roi_lock_supported=supported.supported, ev_compensations='ev_minus_3_00|ev_minus_2_67|ev_minus_2_33|ev_minus_2_00|ev_minus_1_67|ev_minus_1_33|ev_minus_1_00|ev_minus_0_67|ev_minus_0_33|ev_0_00|ev_0_33|ev_0_67|ev_1_00|ev_1_33|ev_1_67|ev_2_00|ev_2_33|ev_2_67|ev_3_00', white_balance_modes='automatic|incandescent|fluorescent|cool_white_fluorescent|sunny|cloudy|green_foliage|blue_sky', custom_white_balance_temperatures='', white_balance_lock_supported=supported.supported, styles='standard|plog', camera_modes='recording|photo', hyperlapse_values='', bracketing_presets='', burst_values='', streaming_modes='', timelapse_interval_min=0.0, gpslapse_interval_min=0.0)\u001b[0m\n"
     ]
    },
    {
     "name": "stdout",
     "output_type": "stream",
     "text": [
      "02/12/2019 18:32:25.900873\t_recv_cmd_cb                    camera.recording_state(cam_id=0, available=availability.not_available, state=state.inactive, start_timestamp=625096)\u001b[0m\n",
      "02/12/2019 18:32:25.902574\t_recv_cmd_cb                    ardrone3.MediaRecordState.VideoStateChangedV2(state=VideoStateChangedV2_State.notAvailable, error=VideoStateChangedV2_Error.ok)\u001b[0m\n",
      "02/12/2019 18:32:25.904414\t_recv_cmd_cb                    camera.photo_state(cam_id=0, available=availability.available, state=state.inactive)\u001b[0m\n",
      "02/12/2019 18:32:25.907440\t_recv_cmd_cb                    camera.recording_capabilities(id=0, recording_modes='standard', resolutions='res_dci_4k', framerates='fps_24', hdr=supported.supported, list_flags='First')\u001b[0m\n",
      "02/12/2019 18:32:25.910174\t_recv_cmd_cb                    camera.recording_capabilities(id=1, recording_modes='standard|hyperlapse', resolutions='res_uhd_4k|res_2_7k|res_1080p', framerates='fps_24|fps_25|fps_30|fps_9', hdr=supported.supported, list_flags='')\u001b[0m\n",
      "02/12/2019 18:32:25.913753\t_recv_cmd_cb                    camera.recording_capabilities(id=2, recording_modes='slow_motion|high_framerate', resolutions='res_1080p|res_720p|res_1080p_sd', framerates='fps_48|fps_50|fps_60', hdr=supported.not_supported, list_flags='')\u001b[0m\n",
      "02/12/2019 18:32:25.915970\t_recv_cmd_cb                    camera.recording_capabilities(id=3, recording_modes='slow_motion|high_framerate', resolutions='res_720p', framerates='', hdr=supported.not_supported, list_flags='Last')\u001b[0m\n",
      "02/12/2019 18:32:25.918125\t_recv_cmd_cb                    camera.photo_capabilities(id=0, photo_modes='single|time_lapse|gps_lapse', photo_formats='full_frame', photo_file_formats='dng_jpeg', hdr=supported.supported, list_flags='First')\u001b[0m\n",
      "02/12/2019 18:32:25.920953\t_recv_cmd_cb                    camera.photo_capabilities(id=1, photo_modes='single|burst|time_lapse|gps_lapse', photo_formats='full_frame', photo_file_formats='jpeg', hdr=supported.supported, list_flags='')\u001b[0m\n",
      "02/12/2019 18:32:25.923620\t_recv_cmd_cb                    camera.photo_capabilities(id=2, photo_modes='single|burst|time_lapse|gps_lapse', photo_formats='rectilinear', photo_file_formats='jpeg', hdr=supported.supported, list_flags='')\u001b[0m\n",
      "02/12/2019 18:32:25.926044\t_recv_cmd_cb                    camera.photo_capabilities(id=3, photo_modes='single|bracketing|time_lapse|gps_lapse', photo_formats='full_frame', photo_file_formats='dng_jpeg', hdr=supported.not_supported, list_flags='')\u001b[0m\n",
      "02/12/2019 18:32:25.928877\t_recv_cmd_cb                    camera.photo_capabilities(id=4, photo_modes='single|bracketing|burst|time_lapse|gps_lapse', photo_formats='full_frame', photo_file_formats='jpeg', hdr=supported.not_supported, list_flags='')\u001b[0m\n",
      "02/12/2019 18:32:25.930991\t_recv_cmd_cb                    camera.photo_capabilities(id=5, photo_modes='single|bracketing|burst|time_lapse|gps_lapse', photo_formats='rectilinear', photo_file_formats='jpeg', hdr=supported.not_supported, list_flags='Last')\u001b[0m\n",
      "02/12/2019 18:32:25.932503\t_recv_cmd_cb                    camera.zoom_info(cam_id=0, available=availability.not_available, high_quality_maximum_level=1.0, maximum_level=1.0)\u001b[0m\n",
      "02/12/2019 18:32:26.228764\t_recv_cmd_cb                    mediastore.counters(video_media_count=1, photo_media_count=0, video_resource_count=1, photo_resource_count=0)\u001b[0m\n",
      "02/12/2019 18:32:29.674860\t_recv_cmd_cb                    ardrone3.PilotingState.moveToChanged(latitude=48.87898296850866, longitude=2.367688370122459, altitude=28.323415756225586, orientation_mode=MoveToChanged_Orientation_mode.NONE, heading=88.29215240478516, status=MoveToChanged_Status.DONE)\u001b[0m\n",
      "02/12/2019 18:32:29.694223\t_recv_cmd_cb                    animation.availability(values='horizontal_180_photo_panorama|vertical_180_photo_panorama|spherical_photo_panorama')\u001b[0m\n",
      "02/12/2019 18:32:29.697310\t_recv_cmd_cb                    animation.availability(values='horizontal_panorama|dronie|horizontal_reveal|vertical_reveal|twist_up|horizontal_180_photo_panorama|vertical_180_photo_panorama|spherical_photo_panorama')\u001b[0m\n",
      "02/12/2019 18:32:30.982658\t_send_command                   Camera.Set_photo_mode(c_ubyte(0), c_uint(0), c_uint(0), c_uint(0), c_uint(0), c_uint(0), c_double(0.0)): has been sent asynchronously\u001b[0m\n",
      "02/12/2019 18:32:30.990494\t_recv_cmd_cb                    camera.antiflicker_capabilities(supported_modes='off|mode_50hz|mode_60hz')\u001b[0m\n",
      "02/12/2019 18:32:30.999047\t_recv_cmd_cb                    camera.camera_capabilities(cam_id=0, model=model.main, exposure_modes='automatic|automatic_prefer_iso_sensitivity|automatic_prefer_shutter_speed|manual_iso_sensitivity|manual_shutter_speed|manual', exposure_lock_supported=supported.supported, exposure_roi_lock_supported=supported.supported, ev_compensations='ev_minus_3_00|ev_minus_2_67|ev_minus_2_33|ev_minus_2_00|ev_minus_1_67|ev_minus_1_33|ev_minus_1_00|ev_minus_0_67|ev_minus_0_33|ev_0_00|ev_0_33|ev_0_67|ev_1_00|ev_1_33|ev_1_67|ev_2_00|ev_2_33|ev_2_67|ev_3_00', white_balance_modes='automatic|incandescent|fluorescent|cool_white_fluorescent|sunny|cloudy|green_foliage|blue_sky', custom_white_balance_temperatures='', white_balance_lock_supported=supported.supported, styles='standard|plog', camera_modes='recording|photo', hyperlapse_values='', bracketing_presets='', burst_values='', streaming_modes='', timelapse_interval_min=0.0, gpslapse_interval_min=0.0)\u001b[0m\n",
      "02/12/2019 18:32:31.002225\t_recv_cmd_cb                    camera.recording_capabilities(id=0, recording_modes='standard', resolutions='res_dci_4k', framerates='fps_24', hdr=supported.supported, list_flags='First')\u001b[0m\n",
      "02/12/2019 18:32:31.005184\t_recv_cmd_cb                    camera.recording_capabilities(id=1, recording_modes='standard|hyperlapse', resolutions='res_uhd_4k|res_2_7k|res_1080p', framerates='fps_24|fps_25|fps_30|fps_9', hdr=supported.supported, list_flags='')\u001b[0m\n",
      "02/12/2019 18:32:31.008103\t_recv_cmd_cb                    camera.recording_capabilities(id=2, recording_modes='slow_motion|high_framerate', resolutions='res_1080p|res_720p|res_1080p_sd', framerates='fps_48|fps_50|fps_60', hdr=supported.not_supported, list_flags='')\u001b[0m\n",
      "02/12/2019 18:32:31.010572\t_recv_cmd_cb                    camera.recording_capabilities(id=3, recording_modes='slow_motion|high_framerate', resolutions='res_720p', framerates='', hdr=supported.not_supported, list_flags='Last')\u001b[0m\n",
      "02/12/2019 18:32:31.013098\t_recv_cmd_cb                    camera.photo_capabilities(id=0, photo_modes='single|time_lapse|gps_lapse', photo_formats='full_frame', photo_file_formats='dng_jpeg', hdr=supported.supported, list_flags='First')\u001b[0m\n",
      "02/12/2019 18:32:31.015055\t_recv_cmd_cb                    camera.photo_capabilities(id=1, photo_modes='single|burst|time_lapse|gps_lapse', photo_formats='full_frame', photo_file_formats='jpeg', hdr=supported.supported, list_flags='')\u001b[0m\n",
      "02/12/2019 18:32:31.016754\t_recv_cmd_cb                    camera.photo_capabilities(id=2, photo_modes='single|burst|time_lapse|gps_lapse', photo_formats='rectilinear', photo_file_formats='jpeg', hdr=supported.supported, list_flags='')\u001b[0m\n",
      "02/12/2019 18:32:31.018467\t_recv_cmd_cb                    camera.photo_capabilities(id=3, photo_modes='single|bracketing|time_lapse|gps_lapse', photo_formats='full_frame', photo_file_formats='dng_jpeg', hdr=supported.not_supported, list_flags='')\u001b[0m\n",
      "02/12/2019 18:32:31.020170\t_recv_cmd_cb                    camera.photo_capabilities(id=4, photo_modes='single|bracketing|burst|time_lapse|gps_lapse', photo_formats='full_frame', photo_file_formats='jpeg', hdr=supported.not_supported, list_flags='')\u001b[0m\n",
      "02/12/2019 18:32:31.021872\t_recv_cmd_cb                    camera.photo_capabilities(id=5, photo_modes='single|bracketing|burst|time_lapse|gps_lapse', photo_formats='rectilinear', photo_file_formats='jpeg', hdr=supported.not_supported, list_flags='Last')\u001b[0m\n",
      "02/12/2019 18:32:31.023541\t_recv_cmd_cb                    camera.photo_mode(cam_id=0, mode=photo_mode.single, format=photo_format.full_frame, file_format=photo_file_format.jpeg, burst=burst_value.burst_14_over_4s, bracketing=bracketing_preset.preset_1ev, capture_interval=0.0)\u001b[0m\n",
      "*******************************************************************************************************\n",
      "TAKING PICTURE\n",
      "*******************************************************************************************************\n"
     ]
    },
    {
     "name": "stdout",
     "output_type": "stream",
     "text": [
      "02/12/2019 18:32:41.033360\t_send_command                   Camera.Take_photo(c_ubyte(0),): has been sent asynchronously\u001b[0m\n",
      "02/12/2019 18:32:41.047265\t_recv_cmd_cb                    camera.photo_state(cam_id=0, available=availability.available, state=state.active)\u001b[0m\n",
      "02/12/2019 18:32:41.050817\t_recv_cmd_cb                    camera.photo_progress(cam_id=0, result=photo_result.taking_photo, photo_count=0, media_id='')\u001b[0m\n",
      "02/12/2019 18:32:41.106401\t_recv_cmd_cb                    camera.photo_progress(cam_id=0, result=photo_result.photo_taken, photo_count=1, media_id='')\u001b[0m\n",
      "02/12/2019 18:32:41.108675\t_recv_cmd_cb                    camera.photo_progress(cam_id=0, result=photo_result.photo_saved, photo_count=0, media_id='10000002')\u001b[0m\n",
      "*******************************************************************************************************\n",
      "GOING TO HOME\n",
      "*******************************************************************************************************\n",
      "02/12/2019 18:32:41.111807\t_recv_cmd_cb                    camera.photo_state(cam_id=0, available=availability.available, state=state.inactive)\u001b[0m\n",
      "02/12/2019 18:32:41.114254\t_send_command                   Ardrone3.Piloting.MoveTo(c_double(48.87890000000001), c_double(2.3677799999999998), c_double(3.0), c_uint(0), c_double(0.0)): has been sent asynchronously\u001b[0m\n",
      "02/12/2019 18:32:41.139759\t_recv_cmd_cb                    ardrone3.PilotingState.moveToChanged(latitude=48.87890000000001, longitude=2.3677799999999998, altitude=3.0, orientation_mode=MoveToChanged_Orientation_mode.NONE, heading=88.2652816772461, status=MoveToChanged_Status.RUNNING)\u001b[0m\n",
      "02/12/2019 18:32:41.142532\t_recv_cmd_cb                    animation.availability(values='horizontal_panorama|dronie|horizontal_reveal|vertical_reveal|twist_up')\u001b[0m\n",
      "02/12/2019 18:32:41.145486\t_recv_cmd_cb                    animation.availability(values='')\u001b[0m\n",
      "02/12/2019 18:32:41.546415\t_recv_cmd_cb                    mediastore.counters(video_media_count=1, photo_media_count=1, video_resource_count=1, photo_resource_count=1)\u001b[0m\n",
      "02/12/2019 18:33:01.134573\t_send_command                   Ardrone3.Piloting.Landing(): has been sent asynchronously\u001b[0m\n",
      "02/12/2019 18:33:01.223028\t_recv_cmd_cb                    ardrone3.PilotingState.moveToChanged(latitude=48.87890000000001, longitude=2.3677799999999998, altitude=3.0, orientation_mode=MoveToChanged_Orientation_mode.NONE, heading=88.2652816772461, status=MoveToChanged_Status.CANCELED)\u001b[0m\n",
      "Traceback (most recent call last):\n",
      "  File \"_ctypes/callbacks.c\", line 234, in 'calling callback function'\n",
      "  File \"/home/rodrigo/code/parrot-groundsdk/out/olympe-linux/final/usr/lib/python3.6/site-packages/olympe_deps.py\", line 70, in <lambda>\n",
      "    type_((lambda callback: lambda *args: callback(*args))(bound_fields[name]))\n",
      "  File \"/home/rodrigo/code/parrot-groundsdk/packages/olympe/src/olympe/arsdkng/drone.py\", line 408, in _recv_cmd_cb\n",
      "    raise RuntimeError(\"Unknown message id {}\".format(message_id))\n",
      "RuntimeError: Unknown message id 2600468481\n",
      "02/12/2019 18:33:01.234239\tdisconnection                   we are not disconnected yet\u001b[0m\n",
      "02/12/2019 18:33:01.237117\t_recv_cmd_cb                    follow_me.state(mode=mode.none, behavior=behavior.idle, animation=animation.none, animation_available='')\u001b[0m\n",
      "02/12/2019 18:33:01.239132\t_disconnected_cb                Disconnected from device: ANAFI-0000000\u001b[0m\n",
      "02/12/2019 18:33:01.240615\t_disconnection_impl             disconnected from device: b'10.202.0.1'\u001b[0m\n",
      "I arsdkctrl: discovery 'net': remove device name='ANAFI-0000000' id='000000000000000000'\n",
      "02/12/2019 18:33:01.242485\t_device_removed_cb              Device has been removed\u001b[0m\n",
      "I arsdkctrl: discovery 'net': stop\n",
      "02/12/2019 18:33:01.244244\t_stop_discovery                 Discovery has been stopped\u001b[0m\n",
      "02/12/2019 18:33:01.245359\t_stop_discovery                 Discovery object has been destroyed\u001b[0m\n",
      "02/12/2019 18:33:01.252803\t_stop_discovery                 No discovery instance to be stopped\u001b[0m\n",
      "02/12/2019 18:33:01.286587\tdisconnection                   Disconnection with the device OK. IP: b'10.202.0.1'\u001b[0m\n",
      "*******************************************************************************************************\n",
      "SAVING PICTURE\n",
      "*******************************************************************************************************\n",
      "*******************************************************************************************************\n",
      "PHOTO SAVED SUCCESSFULY\n",
      "*******************************************************************************************************\n",
      "02/12/2019 18:33:02.430596\t_destroy_pomp_loop              Pomp loop has been destroyed\u001b[0m\n",
      "02/12/2019 18:33:02.434198\t_stop_discovery                 No discovery instance to be stopped\u001b[0m\n",
      "02/12/2019 18:33:02.438406\t_destroy_pomp_loop              Pomp loop has been destroyed\u001b[0m\n",
      "02/12/2019 18:33:02.438685\t_destroy_net_backend            Net backend has been destroyed\u001b[0m\n",
      "02/12/2019 18:33:02.439659\t_destroy_manager                Manager has been destroyed\u001b[0m\n",
      "02/12/2019 18:33:02.440577\tdestroy_timer                   Pomp loop timer has been destroyed\u001b[0m\n",
      "02/12/2019 18:33:02.441358\tdestroy_timer                   Pomp loop timer has been destroyed\u001b[0m\n",
      "02/12/2019 18:33:02.442145\t_destroy_pomp_loop              Pomp loop has been destroyed\u001b[0m\n"
     ]
    }
   ],
   "source": [
    "!python ./picture.py"
   ]
  },
  {
   "cell_type": "code",
   "execution_count": 31,
   "metadata": {
    "colab": {
     "base_uri": "https://localhost:8080/",
     "height": 1000
    },
    "colab_type": "code",
    "id": "kXg4e6bhZPrD",
    "outputId": "6acbba8d-1e76-4c6d-d466-413f301816cc",
    "scrolled": false
   },
   "outputs": [
    {
     "name": "stdout",
     "output_type": "stream",
     "text": [
      "[[[152 152 152]\n",
      "  [152 152 152]\n",
      "  [152 152 152]\n",
      "  ...\n",
      "  [152 152 152]\n",
      "  [152 152 152]\n",
      "  [152 152 152]]\n",
      "\n",
      " [[152 152 152]\n",
      "  [152 152 152]\n",
      "  [152 152 152]\n",
      "  ...\n",
      "  [152 152 152]\n",
      "  [152 152 152]\n",
      "  [152 152 152]]\n",
      "\n",
      " [[152 152 152]\n",
      "  [152 152 152]\n",
      "  [152 152 152]\n",
      "  ...\n",
      "  [152 152 152]\n",
      "  [152 152 152]\n",
      "  [152 152 152]]\n",
      "\n",
      " ...\n",
      "\n",
      " [[152 152 152]\n",
      "  [152 152 152]\n",
      "  [152 152 152]\n",
      "  ...\n",
      "  [152 152 152]\n",
      "  [152 152 152]\n",
      "  [152 152 152]]\n",
      "\n",
      " [[152 152 152]\n",
      "  [152 152 152]\n",
      "  [152 152 152]\n",
      "  ...\n",
      "  [152 152 152]\n",
      "  [152 152 152]\n",
      "  [152 152 152]]\n",
      "\n",
      " [[152 152 152]\n",
      "  [152 152 152]\n",
      "  [152 152 152]\n",
      "  ...\n",
      "  [152 152 152]\n",
      "  [152 152 152]\n",
      "  [152 152 152]]]\n",
      "with: 512 height: 512\n",
      "parking\n",
      "Parking space coordinate (91.86 , 450.59)\n",
      "parking\n",
      "Parking space coordinate (276.05 , 448.14)\n",
      "parking\n",
      "Parking space coordinate (337.47 , 448.34)\n",
      "parking\n",
      "Parking space coordinate (215.8 , 448.94)\n",
      "parking\n",
      "Parking space coordinate (90.19 , 165.78)\n",
      "parking\n",
      "Parking space coordinate (154.5 , 450.72)\n",
      "parking\n",
      "Parking space coordinate (400.54 , 450.09)\n",
      "parking\n",
      "Parking space coordinate (395.3 , 159.55)\n",
      "entrance\n",
      "Parking space coordinate (76.28 , 309.52)\n",
      "exit\n",
      "Parking space coordinate (416.67 , 311.88)\n"
     ]
    },
    {
     "data": {
      "image/png": "[encoded data removed]",
      "text/plain": [
       "<PIL.Image.Image image mode=RGB size=512x512 at 0x7FCAEC3297F0>"
      ]
     },
     "metadata": {},
     "output_type": "display_data"
    }
   ],
   "source": [
    "predictedImage = pix2pix()\n",
    "coordenadas = objectDetection()\n",
    "salida = findBestCoord(coordenadas)"
   ]
  },
  {
   "cell_type": "markdown",
   "metadata": {},
   "source": [
    "#Go to selected cell"
   ]
  },
  {
   "cell_type": "code",
   "execution_count": 32,
   "metadata": {
    "scrolled": true
   },
   "outputs": [
    {
     "name": "stdout",
     "output_type": "stream",
     "text": [
      "['B1', 141.92773266701613, 'parking', 91.86, 450.59]\n"
     ]
    }
   ],
   "source": [
    "print(salida)"
   ]
  },
  {
   "cell_type": "code",
   "execution_count": 33,
   "metadata": {
    "scrolled": true
   },
   "outputs": [
    {
     "name": "stdout",
     "output_type": "stream",
     "text": [
      "02/12/2019 18:33:19.122226\t_create_pomp_loop               Creating pomp loop\u001b[0m\n",
      "02/12/2019 18:33:19.123965\t_create_manager                 New manager has been created!\u001b[0m\n",
      "02/12/2019 18:33:19.124636\t_create_manager                 Manager device callbacks has been added to the manager\u001b[0m\n",
      "02/12/2019 18:33:19.125675\t_create_net_backend             New net backend has been created\u001b[0m\n",
      "02/12/2019 18:33:19.126372\t_create_net_backend             Set backend socket callback OK\u001b[0m\n",
      "02/12/2019 18:33:19.128245\t_create_pomp_loop               Creating pomp loop\u001b[0m\n",
      "02/12/2019 18:33:19.130684\t_create_pomp_loop               Creating pomp loop\u001b[0m\n",
      "02/12/2019 18:33:19.133857\tcreate_timer                    Creating pomp timer\u001b[0m\n",
      "02/12/2019 18:33:19.134769\tcreate_timer                    Creating pomp timer\u001b[0m\n",
      "Destination: B1\n",
      "02/12/2019 18:33:19.139040\t_start_net_discovery            Net discovery object has been created\u001b[0m\n",
      "I arsdkctrl: discovery 'net': start\n",
      "02/12/2019 18:33:19.140932\t_backend_socket_cb              backend_pointer <olympe_deps.LP_struct_arsdkctrl_backend_net object at 0x7f588f891620> socket_fd 17 socket_kind 0 userdate_pointer None\u001b[0m\n",
      "02/12/2019 18:33:19.142632\t_start_net_discovery            Net discovery has been started\u001b[0m\n",
      "I arsdkctrl: discovery 'net': add device name='ANAFI-0000000' id='000000000000000000'\n",
      "02/12/2019 18:33:19.147286\t_device_added_cb                New device has been detected\u001b[0m\n",
      "02/12/2019 18:33:19.148371\t_device_added_cb                {'state': 0}\u001b[0m\n",
      "02/12/2019 18:33:19.150144\t_backend_socket_cb              backend_pointer <olympe_deps.LP_struct_arsdkctrl_backend_net object at 0x7f588dfdcc80> socket_fd 20 socket_kind 2 userdate_pointer None\u001b[0m\n",
      "02/12/2019 18:33:19.151242\t_backend_socket_cb              backend_pointer <olympe_deps.LP_struct_arsdkctrl_backend_net object at 0x7f588dfdcc80> socket_fd 21 socket_kind 1 userdate_pointer None\u001b[0m\n",
      "02/12/2019 18:33:19.152622\t_connecting_cb                  Connecting to device: ANAFI-0000000\u001b[0m\n",
      "02/12/2019 18:33:19.153519\t_connect_to_device              Connection in progress...\u001b[0m\n",
      "I arsdkctrl_net: Sending json:\n",
      "I arsdkctrl_net: { \"arstream2_client_stream_port\": \"55004\", \"arstream2_client_control_port\": \"55005\", \"arstream2_supported_metadata_version\": \"1\", \"controller_name\": \"arsdk-ng\", \"controller_type\": \"desktop\", \"d2c_port\": 9988, \"device_id\": \"\", \"qos_mode\": 0 }\n",
      "I arsdkctrl_net: Received json:\n",
      "I arsdkctrl_net: { \"c2d_update_port\": 51, \"c2d_user_port\": 21, \"status\": 0, \"c2d_port\": 2233, \"qos_mode\": 0, \"proto_v\": 1 }\n",
      "02/12/2019 18:33:19.156039\t_connected_cb                   Connected to device: ANAFI-0000000\u001b[0m\n",
      "02/12/2019 18:33:19.157981\t_connected_cb                   {'json': {'c2d_port': 2233,\n",
      "          'c2d_update_port': 51,\n",
      "          'c2d_user_port': 21,\n",
      "          'proto_v': 1,\n",
      "          'qos_mode': 0,\n",
      "          'status': 0},\n",
      " 'state': 0}\u001b[0m\n",
      "02/12/2019 18:33:19.158990\t_create_command_interface       Command interface has been created: itf=<olympe_deps.LP_struct_arsdk_cmd_itf object at 0x7f588dfdcb70>\u001b[0m\n",
      "02/12/2019 18:33:19.189985\t_recv_cmd_cb                    common.ARLibsVersionsState.DeviceLibARCommandsVersion(version='4.0.0.4')\u001b[0m\n",
      "02/12/2019 18:33:19.191348\t_recv_cmd_cb                    common.CommonState.BatteryStateChanged(percent=98)\u001b[0m\n",
      "02/12/2019 18:33:19.192825\t_recv_cmd_cb                    common.CommonState.BootId(bootId='BA6733EDDE1F7F2CB432FA76F23F99D8')\u001b[0m\n",
      "02/12/2019 18:33:19.194795\t_recv_cmd_cb                    common.CalibrationState.MagnetoCalibrationRequiredState(required=0)\u001b[0m\n",
      "02/12/2019 18:33:19.196256\t_recv_cmd_cb                    ardrone3.PilotingState.AlertStateChanged(state=AlertStateChanged_State.none)\u001b[0m\n",
      "02/12/2019 18:33:19.197808\t_recv_cmd_cb                    common.CommonState.SensorsStatesListChanged(sensorName=SensorsStatesListChanged_SensorName.IMU, sensorState=1)\u001b[0m\n",
      "02/12/2019 18:33:19.199260\t_recv_cmd_cb                    common.CommonState.SensorsStatesListChanged(sensorName=SensorsStatesListChanged_SensorName.magnetometer, sensorState=1)\u001b[0m\n",
      "02/12/2019 18:33:19.200680\t_recv_cmd_cb                    common.CommonState.SensorsStatesListChanged(sensorName=SensorsStatesListChanged_SensorName.barometer, sensorState=1)\u001b[0m\n",
      "02/12/2019 18:33:19.202145\t_recv_cmd_cb                    common.CommonState.SensorsStatesListChanged(sensorName=SensorsStatesListChanged_SensorName.GPS, sensorState=1)\u001b[0m\n",
      "02/12/2019 18:33:19.203674\t_recv_cmd_cb                    common.CommonState.SensorsStatesListChanged(sensorName=SensorsStatesListChanged_SensorName.ultrasound, sensorState=1)\u001b[0m\n",
      "02/12/2019 18:33:19.205221\t_recv_cmd_cb                    common.CommonState.SensorsStatesListChanged(sensorName=SensorsStatesListChanged_SensorName.vertical_camera, sensorState=1)\u001b[0m\n",
      "02/12/2019 18:33:19.207380\t_recv_cmd_cb                    battery.alert(alert=alert.power_level, level=alert_level.none, list_flags='First')\u001b[0m\n",
      "02/12/2019 18:33:19.209797\t_recv_cmd_cb                    battery.alert(alert=alert.too_hot, level=alert_level.none, list_flags='')\u001b[0m\n",
      "02/12/2019 18:33:19.212259\t_recv_cmd_cb                    battery.alert(alert=alert.too_cold, level=alert_level.none, list_flags='Last')\u001b[0m\n",
      "02/12/2019 18:33:19.214455\t_recv_cmd_cb                    battery.health(state_of_health=100)\u001b[0m\n",
      "02/12/2019 18:33:19.216362\t_recv_cmd_cb                    ardrone3.GPSSettingsState.GPSFixStateChanged(fixed=1)\u001b[0m\n",
      "02/12/2019 18:33:19.218417\t_recv_cmd_cb                    ardrone3.GPSState.NumberOfSatelliteChanged(numberOfSatellite=12)\u001b[0m\n",
      "02/12/2019 18:33:19.220751\t_recv_cmd_cb                    common.RunState.RunIdChanged(runId='11A718')\u001b[0m\n",
      "02/12/2019 18:33:19.223119\t_recv_cmd_cb                    ardrone3.SettingsState.MotorSoftwareVersionChanged(version='0.1.x.4')\u001b[0m\n",
      "02/12/2019 18:33:19.225675\t_recv_cmd_cb                    ardrone3.SettingsState.MotorErrorStateChanged(motorIds=15, motorError=MotorErrorStateChanged_MotorError.noError)\u001b[0m\n",
      "02/12/2019 18:33:19.228187\t_recv_cmd_cb                    ardrone3.SettingsState.MotorFlightsStatusChanged(nbFlights=0, lastFlightDuration=0, totalFlightDuration=0)\u001b[0m\n",
      "02/12/2019 18:33:19.231290\t_recv_cmd_cb                    ardrone3.SettingsState.MotorErrorLastErrorChanged(motorError=MotorErrorLastErrorChanged_MotorError.noError)\u001b[0m\n",
      "02/12/2019 18:33:19.233394\t_recv_cmd_cb                    user_storage.state(physical_state=phy_state.undetected, file_system_state=fs_state.unknown, attribute='', monitor_enabled=0, monitor_period=0)\u001b[0m\n",
      "02/12/2019 18:33:19.236112\t_recv_cmd_cb                    user_storage.info(name='', capacity=0)\u001b[0m\n",
      "02/12/2019 18:33:19.238608\t_recv_cmd_cb                    user_storage.capabilities(supported_features='format_when_ready_allowed|format_result_evt_supported|format_progress_evt_supported')\u001b[0m\n",
      "02/12/2019 18:33:19.241744\t_recv_cmd_cb                    user_storage.supported_formatting_types(supported_types='full|quick')\u001b[0m\n",
      "02/12/2019 18:33:19.244704\t_recv_cmd_cb                    common.CalibrationState.MagnetoCalibrationStartedChanged(started=0)\u001b[0m\n",
      "02/12/2019 18:33:19.248094\t_recv_cmd_cb                    ardrone3.PilotingState.NavigateHomeStateChanged(state=NavigateHomeStateChanged_State.available, reason=NavigateHomeStateChanged_Reason.enabled)\u001b[0m\n",
      "02/12/2019 18:33:19.252877\t_recv_cmd_cb                    ardrone3.GPSState.HomeTypeAvailabilityChanged(type=HomeTypeAvailabilityChanged_Type.TAKEOFF, available=1)\u001b[0m\n",
      "02/12/2019 18:33:19.255324\t_recv_cmd_cb                    ardrone3.GPSState.HomeTypeAvailabilityChanged(type=HomeTypeAvailabilityChanged_Type.PILOT, available=0)\u001b[0m\n",
      "02/12/2019 18:33:19.257370\t_recv_cmd_cb                    ardrone3.GPSState.HomeTypeAvailabilityChanged(type=HomeTypeAvailabilityChanged_Type.FIRST_FIX, available=4)\u001b[0m\n",
      "02/12/2019 18:33:19.259013\t_recv_cmd_cb                    ardrone3.GPSState.HomeTypeAvailabilityChanged(type=HomeTypeAvailabilityChanged_Type.FOLLOWEE, available=0)\u001b[0m\n",
      "02/12/2019 18:33:19.261208\t_recv_cmd_cb                    ardrone3.GPSState.HomeTypeChosenChanged(type=HomeTypeChosenChanged_Type.TAKEOFF)\u001b[0m\n",
      "02/12/2019 18:33:19.263488\t_recv_cmd_cb                    rth.home_reachability(status=home_reachability.unknown)\u001b[0m\n",
      "02/12/2019 18:33:19.265851\t_recv_cmd_cb                    rth.rth_auto_trigger(reason=auto_trigger_reason.none, delay=0)\u001b[0m\n",
      "02/12/2019 18:33:19.268248\t_recv_cmd_cb                    ardrone3.PilotingState.ForcedLandingAutoTrigger(reason=ForcedLandingAutoTrigger_Reason.NONE, delay=0)\u001b[0m\n",
      "02/12/2019 18:33:19.269998\t_recv_cmd_cb                    ardrone3.PilotingState.WindStateChanged(state=WindStateChanged_State.ok)\u001b[0m\n",
      "Traceback (most recent call last):\n",
      "  File \"_ctypes/callbacks.c\", line 234, in 'calling callback function'\n",
      "  File \"/home/rodrigo/code/parrot-groundsdk/out/olympe-linux/final/usr/lib/python3.6/site-packages/olympe_deps.py\", line 70, in <lambda>\n",
      "    type_((lambda callback: lambda *args: callback(*args))(bound_fields[name]))\n",
      "  File \"/home/rodrigo/code/parrot-groundsdk/packages/olympe/src/olympe/arsdkng/drone.py\", line 408, in _recv_cmd_cb\n",
      "    raise RuntimeError(\"Unknown message id {}\".format(message_id))\n",
      "RuntimeError: Unknown message id 17039380\n",
      "02/12/2019 18:33:19.273121\t_recv_cmd_cb                    common.MavlinkState.MavlinkFilePlayingStateChanged(state=MavlinkFilePlayingStateChanged_State.stopped, filepath='', type=MavlinkFilePlayingStateChanged_Type.flightPlan)\u001b[0m\n",
      "02/12/2019 18:33:19.274567\t_recv_cmd_cb                    common.FlightPlanState.ComponentStateListChanged(component=ComponentStateListChanged_Component.GPS, State=1)\u001b[0m\n",
      "02/12/2019 18:33:19.275901\t_recv_cmd_cb                    common.FlightPlanState.ComponentStateListChanged(component=ComponentStateListChanged_Component.Calibration, State=1)\u001b[0m\n",
      "02/12/2019 18:33:19.277274\t_recv_cmd_cb                    common.FlightPlanState.ComponentStateListChanged(component=ComponentStateListChanged_Component.TakeOff, State=1)\u001b[0m\n",
      "02/12/2019 18:33:19.278586\t_recv_cmd_cb                    common.FlightPlanState.AvailabilityStateChanged(AvailabilityState=1)\u001b[0m\n",
      "02/12/2019 18:33:19.280040\t_recv_cmd_cb                    follow_me.state(mode=mode.none, behavior=behavior.idle, animation=animation.none, animation_available='')\u001b[0m\n",
      "02/12/2019 18:33:19.281557\t_recv_cmd_cb                    follow_me.target_framing_position_changed(horizontal=0, vertical=0)\u001b[0m\n",
      "02/12/2019 18:33:19.282945\t_recv_cmd_cb                    follow_me.target_image_detection_state(state=image_detection_status.none)\u001b[0m\n",
      "02/12/2019 18:33:19.284444\t_recv_cmd_cb                    follow_me.mode_info(mode=mode.look_at, missing_requirements='drone_calibrated|drone_gps_good_accuracy|target_gps_good_accuracy|target_barometer_ok|drone_far_enough|drone_high_enough', improvements='drone_calibrated|drone_gps_good_accuracy|target_gps_good_accuracy|target_barometer_ok|drone_far_enough|drone_high_enough|image_detection')\u001b[0m\n",
      "02/12/2019 18:33:19.286147\t_recv_cmd_cb                    follow_me.mode_info(mode=mode.geographic, missing_requirements='target_barometer_ok|drone_far_enough|drone_high_enough', improvements='drone_calibrated|drone_gps_good_accuracy|target_gps_good_accuracy|target_barometer_ok|drone_far_enough|drone_high_enough|image_detection')\u001b[0m\n",
      "02/12/2019 18:33:19.288131\t_recv_cmd_cb                    follow_me.mode_info(mode=mode.relative, missing_requirements='target_barometer_ok|drone_far_enough|drone_high_enough', improvements='drone_calibrated|drone_gps_good_accuracy|target_gps_good_accuracy|target_barometer_ok|drone_far_enough|drone_high_enough|image_detection')\u001b[0m\n",
      "02/12/2019 18:33:19.289676\t_recv_cmd_cb                    follow_me.mode_info(mode=mode.leash, missing_requirements='target_barometer_ok|drone_far_enough|drone_high_enough', improvements='drone_calibrated|drone_gps_good_accuracy|target_gps_good_accuracy|target_barometer_ok|drone_far_enough|drone_high_enough|image_detection')\u001b[0m\n",
      "02/12/2019 18:33:19.290950\t_recv_cmd_cb                    follow_me.target_is_controller(state=0)\u001b[0m\n",
      "02/12/2019 18:33:19.292750\t_recv_cmd_cb                    ardrone3.SoundState.AlertSound(state=AlertSound_State.stopped)\u001b[0m\n",
      "02/12/2019 18:33:19.294253\t_recv_cmd_cb                    mediastore.state(state=state.indexed)\u001b[0m\n",
      "02/12/2019 18:33:19.295769\t_recv_cmd_cb                    mediastore.counters(video_media_count=1, photo_media_count=1, video_resource_count=1, photo_resource_count=1)\u001b[0m\n",
      "02/12/2019 18:33:19.297068\t_recv_cmd_cb                    ardrone3.PilotingState.HoveringWarning(no_gps_too_dark=0, no_gps_too_high=0)\u001b[0m\n",
      "02/12/2019 18:33:19.298434\t_recv_cmd_cb                    camera.camera_mode(cam_id=0, mode=camera_mode.photo)\u001b[0m\n",
      "02/12/2019 18:33:19.299949\t_recv_cmd_cb                    camera.hdr_setting(cam_id=0, value=state.inactive)\u001b[0m\n",
      "02/12/2019 18:33:19.301465\t_recv_cmd_cb                    camera.hdr(cam_id=0, available=availability.not_available, state=state.inactive)\u001b[0m\n",
      "02/12/2019 18:33:19.303121\t_recv_cmd_cb                    camera.photo_mode(cam_id=0, mode=photo_mode.single, format=photo_format.full_frame, file_format=photo_file_format.jpeg, burst=burst_value.burst_14_over_4s, bracketing=bracketing_preset.preset_1ev, capture_interval=0.0)\u001b[0m\n",
      "02/12/2019 18:33:19.304747\t_recv_cmd_cb                    camera.recording_mode(cam_id=0, mode=recording_mode.standard, resolution=resolution.res_uhd_4k, framerate=framerate.fps_30, hyperlapse=hyperlapse_value.ratio_15, bitrate=10000000)\u001b[0m\n",
      "02/12/2019 18:33:19.306149\t_recv_cmd_cb                    camera.white_balance(cam_id=0, mode=white_balance_mode.automatic, temperature=white_balance_temperature.t_1500, lock=state.inactive)\u001b[0m\n",
      "02/12/2019 18:33:19.307981\t_recv_cmd_cb                    camera.exposure_settings(cam_id=0, mode=exposure_mode.automatic, manual_shutter_speed=shutter_speed.shutter_1_over_10000, manual_shutter_speed_capabilities='shutter_1_over_10000|shutter_1_over_8000|shutter_1_over_6400|shutter_1_over_5000|shutter_1_over_4000|shutter_1_over_3200|shutter_1_over_2500|shutter_1_over_2000|shutter_1_over_1600|shutter_1_over_1250|shutter_1_over_1000|shutter_1_over_800|shutter_1_over_640|shutter_1_over_500|shutter_1_over_400|shutter_1_over_320|shutter_1_over_240|shutter_1_over_200|shutter_1_over_160|shutter_1_over_120|shutter_1_over_100|shutter_1_over_80|shutter_1_over_60|shutter_1_over_50|shutter_1_over_40|shutter_1_over_30|shutter_1_over_25|shutter_1_over_15|shutter_1_over_10|shutter_1_over_8|shutter_1_over_6|shutter_1_over_4|shutter_1_over_3|shutter_1_over_2|shutter_1_over_1_5|shutter_1', manual_iso_sensitivity=iso_sensitivity.iso_50, manual_iso_sensitivity_capabilities='iso_100|iso_160|iso_200|iso_320|iso_400|iso_640|iso_800|iso_1200|iso_1600|iso_2500|iso_3200', max_iso_sensitivity=iso_sensitivity.iso_3200, max_iso_sensitivities_capabilities='iso_3200')\u001b[0m\n"
     ]
    },
    {
     "name": "stdout",
     "output_type": "stream",
     "text": [
      "02/12/2019 18:33:19.309386\t_recv_cmd_cb                    camera.ev_compensation(cam_id=0, value=ev_compensation.ev_0_00)\u001b[0m\n",
      "02/12/2019 18:33:19.311008\t_recv_cmd_cb                    camera.style(cam_id=0, style=style.standard, saturation=0, saturation_min=-2, saturation_max=2, contrast=0, contrast_min=-2, contrast_max=2, sharpness=0, sharpness_min=-1, sharpness_max=1)\u001b[0m\n",
      "02/12/2019 18:33:19.312409\t_recv_cmd_cb                    camera.recording_state(cam_id=0, available=availability.not_available, state=state.inactive, start_timestamp=625096)\u001b[0m\n",
      "02/12/2019 18:33:19.313831\t_recv_cmd_cb                    ardrone3.MediaRecordState.VideoStateChangedV2(state=VideoStateChangedV2_State.notAvailable, error=VideoStateChangedV2_Error.ok)\u001b[0m\n",
      "02/12/2019 18:33:19.315276\t_recv_cmd_cb                    camera.photo_state(cam_id=0, available=availability.available, state=state.inactive)\u001b[0m\n",
      "Traceback (most recent call last):\n",
      "  File \"_ctypes/callbacks.c\", line 234, in 'calling callback function'\n",
      "  File \"/home/rodrigo/code/parrot-groundsdk/out/olympe-linux/final/usr/lib/python3.6/site-packages/olympe_deps.py\", line 70, in <lambda>\n",
      "    type_((lambda callback: lambda *args: callback(*args))(bound_fields[name]))\n",
      "  File \"/home/rodrigo/code/parrot-groundsdk/packages/olympe/src/olympe/arsdkng/drone.py\", line 408, in _recv_cmd_cb\n",
      "    raise RuntimeError(\"Unknown message id {}\".format(message_id))\n",
      "RuntimeError: Unknown message id 2399141940\n",
      "02/12/2019 18:33:19.318268\t_recv_cmd_cb                    camera.antiflicker_mode(mode=antiflicker_mode.mode_50hz, value=antiflicker_mode.mode_50hz)\u001b[0m\n",
      "02/12/2019 18:33:19.319675\t_recv_cmd_cb                    thermal.mode(mode=mode.disabled)\u001b[0m\n",
      "02/12/2019 18:33:19.321429\t_recv_cmd_cb                    thermal.palette_settings(mode=palette_mode.absolute, lowest_temp=0.0, highest_temp=0.0, outside_colorization=colorization_mode.limited, relative_range=relative_range_mode.locked, spot_type=spot_type.cold, spot_threshold=0.0)\u001b[0m\n",
      "02/12/2019 18:33:19.322889\t_recv_cmd_cb                    thermal.rendering(mode=rendering_mode.visible, blending_rate=0.0)\u001b[0m\n",
      "02/12/2019 18:33:19.324432\t_recv_cmd_cb                    thermal.emissivity(emissivity=0.0)\u001b[0m\n",
      "02/12/2019 18:33:19.325790\t_recv_cmd_cb                    thermal.background_temperature(background_temperature=0.0)\u001b[0m\n",
      "02/12/2019 18:33:19.327089\t_recv_cmd_cb                    thermal.sensitivity(current_range=range.low)\u001b[0m\n",
      "02/12/2019 18:33:19.328416\t_recv_cmd_cb                    thermal.shutter_mode(current_trigger=shutter_trigger.manual)\u001b[0m\n",
      "02/12/2019 18:33:19.329765\t_recv_cmd_cb                    camera.camera_states(active_cameras=1)\u001b[0m\n",
      "02/12/2019 18:33:19.331245\t_recv_cmd_cb                    camera.zoom_info(cam_id=0, available=availability.not_available, high_quality_maximum_level=1.0, maximum_level=1.0)\u001b[0m\n",
      "02/12/2019 18:33:19.332591\t_recv_cmd_cb                    gimbal.axis_lock_state(gimbal_id=0, locked='')\u001b[0m\n",
      "02/12/2019 18:33:19.334369\t_recv_cmd_cb                    gimbal.alert(gimbal_id=0, error='')\u001b[0m\n",
      "02/12/2019 18:33:19.335889\t_recv_cmd_cb                    animation.availability(values='')\u001b[0m\n",
      "02/12/2019 18:33:19.338331\t_recv_cmd_cb                    animation.state(type=type.none, percent=0)\u001b[0m\n",
      "02/12/2019 18:33:19.340726\t_recv_cmd_cb                    common.SettingsState.BoardIdChanged(id='0x0')\u001b[0m\n",
      "02/12/2019 18:33:19.343238\t_recv_cmd_cb                    precise_home.mode(mode=mode.disabled)\u001b[0m\n",
      "02/12/2019 18:33:19.345533\t_recv_cmd_cb                    precise_home.state(state=state.unavailable)\u001b[0m\n",
      "02/12/2019 18:33:19.348160\t_recv_cmd_cb                    precise_home.capabilities(modes='disabled|standard')\u001b[0m\n",
      "Traceback (most recent call last):\n",
      "  File \"_ctypes/callbacks.c\", line 234, in 'calling callback function'\n",
      "  File \"/home/rodrigo/code/parrot-groundsdk/out/olympe-linux/final/usr/lib/python3.6/site-packages/olympe_deps.py\", line 70, in <lambda>\n",
      "    type_((lambda callback: lambda *args: callback(*args))(bound_fields[name]))\n",
      "  File \"/home/rodrigo/code/parrot-groundsdk/packages/olympe/src/olympe/arsdkng/drone.py\", line 408, in _recv_cmd_cb\n",
      "    raise RuntimeError(\"Unknown message id {}\".format(message_id))\n",
      "RuntimeError: Unknown message id 2600468483\n",
      "Traceback (most recent call last):\n",
      "  File \"_ctypes/callbacks.c\", line 234, in 'calling callback function'\n",
      "  File \"/home/rodrigo/code/parrot-groundsdk/out/olympe-linux/final/usr/lib/python3.6/site-packages/olympe_deps.py\", line 70, in <lambda>\n",
      "    type_((lambda callback: lambda *args: callback(*args))(bound_fields[name]))\n",
      "  File \"/home/rodrigo/code/parrot-groundsdk/packages/olympe/src/olympe/arsdkng/drone.py\", line 408, in _recv_cmd_cb\n",
      "    raise RuntimeError(\"Unknown message id {}\".format(message_id))\n",
      "RuntimeError: Unknown message id 2600468481\n",
      "02/12/2019 18:33:19.354895\t_recv_cmd_cb                    common.CommonState.AllStatesChanged()\u001b[0m\n",
      "02/12/2019 18:33:19.356942\t_send_command                   Common.Common.AllStates(): sent and acknowledged\u001b[0m\n",
      "02/12/2019 18:33:19.360552\t_recv_cmd_cb                    common.SettingsState.ProductSerialHighChanged(high='000000000')\u001b[0m\n",
      "02/12/2019 18:33:19.362311\t_recv_cmd_cb                    common.SettingsState.ProductSerialLowChanged(low='000000000')\u001b[0m\n",
      "02/12/2019 18:33:19.363722\t_recv_cmd_cb                    common.SettingsState.ProductVersionChanged(software='1.6.1', hardware='HW_00')\u001b[0m\n",
      "02/12/2019 18:33:19.366433\t_recv_cmd_cb                    camera.camera_capabilities(cam_id=0, model=model.main, exposure_modes='automatic|automatic_prefer_iso_sensitivity|automatic_prefer_shutter_speed|manual_iso_sensitivity|manual_shutter_speed|manual', exposure_lock_supported=supported.supported, exposure_roi_lock_supported=supported.supported, ev_compensations='ev_minus_3_00|ev_minus_2_67|ev_minus_2_33|ev_minus_2_00|ev_minus_1_67|ev_minus_1_33|ev_minus_1_00|ev_minus_0_67|ev_minus_0_33|ev_0_00|ev_0_33|ev_0_67|ev_1_00|ev_1_33|ev_1_67|ev_2_00|ev_2_33|ev_2_67|ev_3_00', white_balance_modes='automatic|incandescent|fluorescent|cool_white_fluorescent|sunny|cloudy|green_foliage|blue_sky', custom_white_balance_temperatures='', white_balance_lock_supported=supported.supported, styles='standard|plog', camera_modes='recording|photo', hyperlapse_values='', bracketing_presets='', burst_values='', streaming_modes='', timelapse_interval_min=0.0, gpslapse_interval_min=0.0)\u001b[0m\n",
      "02/12/2019 18:33:19.368389\t_recv_cmd_cb                    camera.recording_capabilities(id=0, recording_modes='standard', resolutions='res_dci_4k', framerates='fps_24', hdr=supported.supported, list_flags='First')\u001b[0m\n",
      "02/12/2019 18:33:19.370211\t_recv_cmd_cb                    camera.recording_capabilities(id=1, recording_modes='standard|hyperlapse', resolutions='res_uhd_4k|res_2_7k|res_1080p', framerates='fps_24|fps_25|fps_30|fps_9', hdr=supported.supported, list_flags='')\u001b[0m\n",
      "02/12/2019 18:33:19.372867\t_recv_cmd_cb                    camera.recording_capabilities(id=2, recording_modes='slow_motion|high_framerate', resolutions='res_1080p|res_720p|res_1080p_sd', framerates='fps_48|fps_50|fps_60', hdr=supported.not_supported, list_flags='')\u001b[0m\n",
      "02/12/2019 18:33:19.375577\t_recv_cmd_cb                    camera.recording_capabilities(id=3, recording_modes='slow_motion|high_framerate', resolutions='res_720p', framerates='', hdr=supported.not_supported, list_flags='Last')\u001b[0m\n",
      "02/12/2019 18:33:19.378181\t_recv_cmd_cb                    camera.photo_capabilities(id=0, photo_modes='single|time_lapse|gps_lapse', photo_formats='full_frame', photo_file_formats='dng_jpeg', hdr=supported.supported, list_flags='First')\u001b[0m\n",
      "02/12/2019 18:33:19.380043\t_recv_cmd_cb                    camera.photo_capabilities(id=1, photo_modes='single|burst|time_lapse|gps_lapse', photo_formats='full_frame', photo_file_formats='jpeg', hdr=supported.supported, list_flags='')\u001b[0m\n",
      "02/12/2019 18:33:19.382307\t_recv_cmd_cb                    camera.photo_capabilities(id=2, photo_modes='single|burst|time_lapse|gps_lapse', photo_formats='rectilinear', photo_file_formats='jpeg', hdr=supported.supported, list_flags='')\u001b[0m\n",
      "02/12/2019 18:33:19.384139\t_recv_cmd_cb                    camera.photo_capabilities(id=3, photo_modes='single|bracketing|time_lapse|gps_lapse', photo_formats='full_frame', photo_file_formats='dng_jpeg', hdr=supported.not_supported, list_flags='')\u001b[0m\n",
      "02/12/2019 18:33:19.385935\t_recv_cmd_cb                    camera.photo_capabilities(id=4, photo_modes='single|bracketing|burst|time_lapse|gps_lapse', photo_formats='full_frame', photo_file_formats='jpeg', hdr=supported.not_supported, list_flags='')\u001b[0m\n",
      "02/12/2019 18:33:19.387969\t_recv_cmd_cb                    camera.photo_capabilities(id=5, photo_modes='single|bracketing|burst|time_lapse|gps_lapse', photo_formats='rectilinear', photo_file_formats='jpeg', hdr=supported.not_supported, list_flags='Last')\u001b[0m\n",
      "02/12/2019 18:33:19.389561\t_recv_cmd_cb                    camera.antiflicker_capabilities(supported_modes='off|mode_50hz|mode_60hz')\u001b[0m\n",
      "02/12/2019 18:33:19.390982\t_recv_cmd_cb                    thermal.capabilities(modes='')\u001b[0m\n",
      "02/12/2019 18:33:19.392556\t_recv_cmd_cb                    leds.capabilities(supported_capabilities='')\u001b[0m\n",
      "02/12/2019 18:33:19.394075\t_recv_cmd_cb                    ardrone3.PilotingSettingsState.MaxAltitudeChanged(current=30.0, min=0.5, max=4000.0)\u001b[0m\n",
      "02/12/2019 18:33:19.395485\t_recv_cmd_cb                    ardrone3.PilotingSettingsState.MaxDistanceChanged(current=100.0, min=10.0, max=4000.0)\u001b[0m\n",
      "02/12/2019 18:33:19.396824\t_recv_cmd_cb                    ardrone3.PilotingSettingsState.NoFlyOverMaxDistanceChanged(shouldNotFlyOver=0)\u001b[0m\n",
      "02/12/2019 18:33:19.398612\t_recv_cmd_cb                    ardrone3.PilotingSettingsState.MaxTiltChanged(current=20.0, min=1.0, max=40.0)\u001b[0m\n",
      "02/12/2019 18:33:19.400089\t_recv_cmd_cb                    ardrone3.SpeedSettingsState.MaxVerticalSpeedChanged(current=1.0, min=0.10000000149011612, max=4.0)\u001b[0m\n",
      "02/12/2019 18:33:19.401575\t_recv_cmd_cb                    ardrone3.SpeedSettingsState.MaxRotationSpeedChanged(current=70.0, min=3.0, max=200.0)\u001b[0m\n",
      "02/12/2019 18:33:19.402999\t_recv_cmd_cb                    ardrone3.SpeedSettingsState.MaxPitchRollRotationSpeedChanged(current=150.0, min=40.0, max=300.0)\u001b[0m\n",
      "02/12/2019 18:33:19.404355\t_recv_cmd_cb                    ardrone3.PilotingSettingsState.BankedTurnChanged(state=0)\u001b[0m\n",
      "02/12/2019 18:33:19.405758\t_recv_cmd_cb                    ardrone3.SpeedSettingsState.HullProtectionChanged(present=0)\u001b[0m\n",
      "02/12/2019 18:33:19.407114\t_recv_cmd_cb                    ardrone3.GPSSettingsState.ReturnHomeDelayChanged(delay=60)\u001b[0m\n",
      "02/12/2019 18:33:19.408501\t_recv_cmd_cb                    ardrone3.GPSSettingsState.ReturnHomeMinAltitudeChanged(value=20.0, min=20.0, max=100.0)\u001b[0m\n",
      "02/12/2019 18:33:19.409907\t_recv_cmd_cb                    ardrone3.PilotingSettingsState.MotionDetection(enabled=0)\u001b[0m\n",
      "02/12/2019 18:33:19.411304\t_recv_cmd_cb                    ardrone3.GPSSettingsState.HomeTypeChanged(type=HomeTypeChanged_Type.FOLLOWEE)\u001b[0m\n",
      "02/12/2019 18:33:19.412683\t_recv_cmd_cb                    common.SettingsState.ProductNameChanged(name='Parrot Drone')\u001b[0m\n",
      "02/12/2019 18:33:19.414165\t_recv_cmd_cb                    wifi.supported_security_types(types='open|wpa2')\u001b[0m\n",
      "02/12/2019 18:33:19.415663\t_recv_cmd_cb                    wifi.security_changed(type=security_type.open, key='', key_type=security_key_type.plain)\u001b[0m\n"
     ]
    },
    {
     "name": "stdout",
     "output_type": "stream",
     "text": [
      "02/12/2019 18:33:19.417242\t_recv_cmd_cb                    wifi.ap_channel_changed(type=selection_type.auto_all, band=-1, channel=255)\u001b[0m\n",
      "02/12/2019 18:33:19.418725\t_recv_cmd_cb                    wifi.country_changed(selection_mode=country_selection.auto, code='FR')\u001b[0m\n",
      "02/12/2019 18:33:19.420399\t_recv_cmd_cb                    wifi.environment_changed(environment=environment.outdoor)\u001b[0m\n",
      "02/12/2019 18:33:19.422048\t_recv_cmd_cb                    gimbal.gimbal_capabilities(gimbal_id=0, model=model.main, axes='pitch|roll')\u001b[0m\n",
      "02/12/2019 18:33:19.423610\t_recv_cmd_cb                    gimbal.relative_attitude_bounds(gimbal_id=0, min_yaw=0.0, max_yaw=0.0, min_pitch=-135.0, max_pitch=105.0, min_roll=0.0, max_roll=0.0)\u001b[0m\n",
      "02/12/2019 18:33:19.425146\t_recv_cmd_cb                    gimbal.absolute_attitude_bounds(gimbal_id=0, min_yaw=0.0, max_yaw=0.0, min_pitch=-90.0, max_pitch=90.0, min_roll=0.0, max_roll=0.0)\u001b[0m\n",
      "02/12/2019 18:33:19.426641\t_recv_cmd_cb                    ardrone3.CameraState.VelocityRange(max_tilt=14.0, max_pan=0.0)\u001b[0m\n",
      "02/12/2019 18:33:19.428210\t_recv_cmd_cb                    gimbal.max_speed(gimbal_id=0, min_bound_yaw=0.0, max_bound_yaw=0.0, current_yaw=0.0, min_bound_pitch=1.0, max_bound_pitch=180.0, current_pitch=14.0, min_bound_roll=0.0, max_bound_roll=0.0, current_roll=0.0)\u001b[0m\n",
      "02/12/2019 18:33:19.429667\t_recv_cmd_cb                    ardrone3.CameraState.defaultCameraOrientationV2(tilt=0.0, pan=0.0)\u001b[0m\n",
      "02/12/2019 18:33:19.431381\t_recv_cmd_cb                    camera.max_zoom_speed(cam_id=0, min=0.009999999776482582, max=10.0, current=0.3400000035762787)\u001b[0m\n",
      "02/12/2019 18:33:19.432865\t_recv_cmd_cb                    camera.zoom_velocity_quality_degradation(cam_id=0, allowed=1)\u001b[0m\n",
      "02/12/2019 18:33:19.434619\t_recv_cmd_cb                    gimbal.calibration_state(state=calibration_state.required, gimbal_id=0)\u001b[0m\n",
      "02/12/2019 18:33:19.436353\t_recv_cmd_cb                    gimbal.offsets(gimbal_id=0, update_state=state.inactive, min_bound_yaw=0.0, max_bound_yaw=0.0, current_yaw=1.7625728266062555e-39, min_bound_pitch=-5.0, max_bound_pitch=5.0, current_pitch=278096.65625, min_bound_roll=-5.0, max_bound_roll=5.0, current_roll=1.7625728266062555e-39)\u001b[0m\n",
      "02/12/2019 18:33:19.437924\t_recv_cmd_cb                    camera.autorecord(cam_id=0, state=state.active)\u001b[0m\n",
      "02/12/2019 18:33:19.439408\t_recv_cmd_cb                    ardrone3.SettingsState.ProductGPSVersionChanged(software='', hardware='')\u001b[0m\n",
      "02/12/2019 18:33:19.440736\t_recv_cmd_cb                    common.SettingsState.AllSettingsChanged()\u001b[0m\n",
      "02/12/2019 18:33:19.442004\t_send_command                   Common.Settings.AllSettings(): sent and acknowledged\u001b[0m\n",
      "02/12/2019 18:33:19.446934\t_send_command                   Ardrone3.Piloting.TakeOff(): has been sent asynchronously\u001b[0m\n",
      "02/12/2019 18:33:19.457099\t_recv_cmd_cb                    animation.availability(values='horizontal_180_photo_panorama|vertical_180_photo_panorama|spherical_photo_panorama')\u001b[0m\n",
      "02/12/2019 18:33:19.462932\t_recv_cmd_cb                    animation.availability(values='horizontal_panorama|dronie|horizontal_reveal|vertical_reveal|twist_up|horizontal_180_photo_panorama|vertical_180_photo_panorama|spherical_photo_panorama')\u001b[0m\n",
      "02/12/2019 18:33:28.107108\t_recv_cmd_cb                    common.CommonState.BatteryStateChanged(percent=97)\u001b[0m\n",
      "Going to entrance\n",
      "02/12/2019 18:33:29.490828\t_send_command                   Ardrone3.Piloting.MoveBy(c_double(0.0), c_double(0.0), c_double(-5.0), c_double(0.0)): has been sent asynchronously\u001b[0m\n",
      "02/12/2019 18:33:29.503779\t_recv_cmd_cb                    animation.availability(values='horizontal_panorama|dronie|horizontal_reveal|vertical_reveal|twist_up')\u001b[0m\n",
      "02/12/2019 18:33:29.563340\t_recv_cmd_cb                    animation.availability(values='')\u001b[0m\n",
      "02/12/2019 18:33:34.481722\t_recv_cmd_cb                    ardrone3.PilotingEvent.moveByEnd(dX=-0.01298548560589552, dY=-0.00811203382909298, dZ=-4.9108734130859375, dPsi=3.0630983131676176e-41, error=MoveByEnd_Error.ok)\u001b[0m\n",
      "02/12/2019 18:33:34.562207\t_recv_cmd_cb                    animation.availability(values='horizontal_180_photo_panorama|vertical_180_photo_panorama|spherical_photo_panorama')\u001b[0m\n",
      "02/12/2019 18:33:34.571833\t_send_command                   Ardrone3.Piloting.MoveTo(c_double(48.879031563239856), c_double(2.367685713676506), c_double(5.0), c_uint(0), c_double(0.0)): has been sent asynchronously\u001b[0m\n",
      "02/12/2019 18:33:34.578859\t_recv_cmd_cb                    animation.availability(values='horizontal_panorama|dronie|horizontal_reveal|vertical_reveal|twist_up|horizontal_180_photo_panorama|vertical_180_photo_panorama|spherical_photo_panorama')\u001b[0m\n",
      "02/12/2019 18:33:34.590053\t_recv_cmd_cb                    ardrone3.PilotingState.moveToChanged(latitude=48.879031563239856, longitude=2.367685713676506, altitude=5.0, orientation_mode=MoveToChanged_Orientation_mode.NONE, heading=88.40626525878906, status=MoveToChanged_Status.RUNNING)\u001b[0m\n",
      "02/12/2019 18:33:34.591661\t_recv_cmd_cb                    animation.availability(values='horizontal_panorama|dronie|horizontal_reveal|vertical_reveal|twist_up')\u001b[0m\n",
      "02/12/2019 18:33:34.679223\t_recv_cmd_cb                    animation.availability(values='')\u001b[0m\n",
      "02/12/2019 18:33:54.587736\t_send_command                   Ardrone3.Piloting.MoveTo(c_double(48.879031563239856), c_double(2.367685713676506), c_double(0.9825900793075562), c_uint(0), c_double(0.0)): has been sent asynchronously\u001b[0m\n",
      "02/12/2019 18:33:54.602917\t_recv_cmd_cb                    ardrone3.PilotingState.moveToChanged(latitude=48.879031563239856, longitude=2.367685713676506, altitude=0.9825900793075562, orientation_mode=MoveToChanged_Orientation_mode.NONE, heading=88.55542755126953, status=MoveToChanged_Status.RUNNING)\u001b[0m\n",
      "02/12/2019 18:34:06.094572\t_recv_cmd_cb                    ardrone3.PilotingState.moveToChanged(latitude=48.879031563239856, longitude=2.367685713676506, altitude=0.9825900793075562, orientation_mode=MoveToChanged_Orientation_mode.NONE, heading=88.55542755126953, status=MoveToChanged_Status.DONE)\u001b[0m\n",
      "02/12/2019 18:34:06.168850\t_recv_cmd_cb                    animation.availability(values='horizontal_panorama|dronie|horizontal_reveal|vertical_reveal|twist_up')\u001b[0m\n",
      "02/12/2019 18:34:06.791930\t_recv_cmd_cb                    animation.availability(values='horizontal_panorama|dronie|horizontal_reveal|vertical_reveal|twist_up|horizontal_180_photo_panorama|vertical_180_photo_panorama|spherical_photo_panorama')\u001b[0m\n",
      "02/12/2019 18:34:14.637840\t_send_command                   Ardrone3.Piloting.MoveBy(c_double(-4.93), c_double(0.0), c_double(0.0), c_double(0.0)): has been sent asynchronously\u001b[0m\n",
      "02/12/2019 18:34:14.713572\t_recv_cmd_cb                    animation.availability(values='horizontal_panorama|dronie|horizontal_reveal|vertical_reveal|twist_up')\u001b[0m\n",
      "02/12/2019 18:34:14.719062\t_recv_cmd_cb                    animation.availability(values='')\u001b[0m\n",
      "02/12/2019 18:34:22.427420\t_recv_cmd_cb                    common.CommonState.BatteryStateChanged(percent=96)\u001b[0m\n",
      "02/12/2019 18:34:31.462410\t_recv_cmd_cb                    ardrone3.PilotingEvent.moveByEnd(dX=-4.8313517570495605, dY=0.011407285928726196, dZ=-0.0008399486541748047, dPsi=3.0630983131676176e-41, error=MoveByEnd_Error.ok)\u001b[0m\n",
      "02/12/2019 18:34:31.538412\t_recv_cmd_cb                    animation.availability(values='horizontal_180_photo_panorama|vertical_180_photo_panorama|spherical_photo_panorama')\u001b[0m\n",
      "Going to HOME\n",
      "02/12/2019 18:34:31.545970\t_send_command                   Ardrone3.Piloting.MoveBy(c_double(0.0), c_double(0.0), c_double(-5.0), c_double(0.0)): has been sent asynchronously\u001b[0m\n",
      "02/12/2019 18:34:31.549884\t_recv_cmd_cb                    animation.availability(values='horizontal_panorama|dronie|horizontal_reveal|vertical_reveal|twist_up|horizontal_180_photo_panorama|vertical_180_photo_panorama|spherical_photo_panorama')\u001b[0m\n",
      "02/12/2019 18:34:31.565263\t_recv_cmd_cb                    animation.availability(values='horizontal_panorama|dronie|horizontal_reveal|vertical_reveal|twist_up')\u001b[0m\n",
      "02/12/2019 18:34:31.571336\t_recv_cmd_cb                    animation.availability(values='')\u001b[0m\n",
      "02/12/2019 18:34:36.554400\t_recv_cmd_cb                    ardrone3.PilotingEvent.moveByEnd(dX=-0.07614098489284515, dY=0.005948034580796957, dZ=-4.942203521728516, dPsi=3.0630983131676176e-41, error=MoveByEnd_Error.ok)\u001b[0m\n",
      "02/12/2019 18:34:36.562829\t_recv_cmd_cb                    animation.availability(values='horizontal_180_photo_panorama|vertical_180_photo_panorama|spherical_photo_panorama')\u001b[0m\n",
      "02/12/2019 18:34:36.569638\t_send_command                   Ardrone3.Piloting.MoveTo(c_double(48.87890000000001), c_double(2.3677799999999998), c_double(3.0), c_uint(0), c_double(0.0)): has been sent asynchronously\u001b[0m\n",
      "02/12/2019 18:34:36.575811\t_recv_cmd_cb                    animation.availability(values='horizontal_panorama|dronie|horizontal_reveal|vertical_reveal|twist_up|horizontal_180_photo_panorama|vertical_180_photo_panorama|spherical_photo_panorama')\u001b[0m\n"
     ]
    },
    {
     "name": "stdout",
     "output_type": "stream",
     "text": [
      "02/12/2019 18:34:36.640070\t_recv_cmd_cb                    ardrone3.PilotingState.moveToChanged(latitude=48.87890000000001, longitude=2.3677799999999998, altitude=3.0, orientation_mode=MoveToChanged_Orientation_mode.NONE, heading=88.58509826660156, status=MoveToChanged_Status.RUNNING)\u001b[0m\n",
      "02/12/2019 18:34:36.642121\t_recv_cmd_cb                    animation.availability(values='horizontal_panorama|dronie|horizontal_reveal|vertical_reveal|twist_up')\u001b[0m\n",
      "02/12/2019 18:34:36.647628\t_recv_cmd_cb                    animation.availability(values='')\u001b[0m\n",
      "02/12/2019 18:34:56.573498\t_send_command                   Ardrone3.Piloting.Landing(): has been sent asynchronously\u001b[0m\n",
      "02/12/2019 18:34:56.649542\t_recv_cmd_cb                    ardrone3.PilotingState.moveToChanged(latitude=48.87890000000001, longitude=2.3677799999999998, altitude=3.0, orientation_mode=MoveToChanged_Orientation_mode.NONE, heading=88.58509826660156, status=MoveToChanged_Status.CANCELED)\u001b[0m\n",
      "Traceback (most recent call last):\n",
      "  File \"_ctypes/callbacks.c\", line 234, in 'calling callback function'\n",
      "  File \"/home/rodrigo/code/parrot-groundsdk/out/olympe-linux/final/usr/lib/python3.6/site-packages/olympe_deps.py\", line 70, in <lambda>\n",
      "    type_((lambda callback: lambda *args: callback(*args))(bound_fields[name]))\n",
      "  File \"/home/rodrigo/code/parrot-groundsdk/packages/olympe/src/olympe/arsdkng/drone.py\", line 408, in _recv_cmd_cb\n",
      "    raise RuntimeError(\"Unknown message id {}\".format(message_id))\n",
      "RuntimeError: Unknown message id 2600468481\n",
      "02/12/2019 18:34:56.655687\tdisconnection                   we are not disconnected yet\u001b[0m\n",
      "02/12/2019 18:34:56.658221\t_recv_cmd_cb                    follow_me.state(mode=mode.none, behavior=behavior.idle, animation=animation.none, animation_available='')\u001b[0m\n",
      "02/12/2019 18:34:56.659614\t_disconnected_cb                Disconnected from device: ANAFI-0000000\u001b[0m\n",
      "02/12/2019 18:34:56.660926\t_disconnection_impl             disconnected from device: b'10.202.0.1'\u001b[0m\n",
      "I arsdkctrl: discovery 'net': remove device name='ANAFI-0000000' id='000000000000000000'\n",
      "02/12/2019 18:34:56.662483\t_device_removed_cb              Device has been removed\u001b[0m\n",
      "I arsdkctrl: discovery 'net': stop\n",
      "02/12/2019 18:34:56.663771\t_stop_discovery                 Discovery has been stopped\u001b[0m\n",
      "02/12/2019 18:34:56.664799\t_stop_discovery                 Discovery object has been destroyed\u001b[0m\n",
      "02/12/2019 18:34:56.669068\t_stop_discovery                 No discovery instance to be stopped\u001b[0m\n",
      "02/12/2019 18:34:56.706819\tdisconnection                   Disconnection with the device OK. IP: b'10.202.0.1'\u001b[0m\n",
      "02/12/2019 18:34:56.736399\t_destroy_pomp_loop              Pomp loop has been destroyed\u001b[0m\n",
      "02/12/2019 18:34:56.740319\t_destroy_pomp_loop              Pomp loop has been destroyed\u001b[0m\n",
      "02/12/2019 18:34:56.741231\t_stop_discovery                 No discovery instance to be stopped\u001b[0m\n",
      "02/12/2019 18:34:56.744110\t_destroy_net_backend            Net backend has been destroyed\u001b[0m\n",
      "02/12/2019 18:34:56.744927\t_destroy_manager                Manager has been destroyed\u001b[0m\n",
      "02/12/2019 18:34:56.745859\tdestroy_timer                   Pomp loop timer has been destroyed\u001b[0m\n",
      "02/12/2019 18:34:56.746635\tdestroy_timer                   Pomp loop timer has been destroyed\u001b[0m\n",
      "02/12/2019 18:34:56.747729\t_destroy_pomp_loop              Pomp loop has been destroyed\u001b[0m\n"
     ]
    }
   ],
   "source": [
    "!python ./moveTo.py \"{salida[0]}\""
   ]
  }
 ],
 "metadata": {
  "colab": {
   "collapsed_sections": [
    "NiKygrobQlgQ",
    "7ZxpIiEG7W5a",
    "jKALUBnHUJPq",
    "_cudia4J_CJq",
    "4WHyJnxsWkFG",
    "7r3SxrFmVyGq",
    "Yx-bnrXPYEV1",
    "hU_AmsQ_Y4wO"
   ],
   "name": "P2P ObDet final.ipynb",
   "provenance": [],
   "toc_visible": true
  },
  "kernelspec": {
   "display_name": "Python 3",
   "language": "python",
   "name": "python3"
  },
  "language_info": {
   "codemirror_mode": {
    "name": "ipython",
    "version": 3
   },
   "file_extension": ".py",
   "mimetype": "text/x-python",
   "name": "python",
   "nbconvert_exporter": "python",
   "pygments_lexer": "ipython3",
   "version": "3.6.8"
  }
 },
 "nbformat": 4,
 "nbformat_minor": 1
}
